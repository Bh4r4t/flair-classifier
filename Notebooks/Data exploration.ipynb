{
 "cells": [
  {
   "cell_type": "markdown",
   "metadata": {},
   "source": [
    "# Data Exploration and Analysis\n",
    "In this notebook I used some data cleaning along with data analysis"
   ]
  },
  {
   "cell_type": "code",
   "execution_count": 1,
   "metadata": {
    "colab": {
     "base_uri": "https://localhost:8080/",
     "height": 71
    },
    "colab_type": "code",
    "id": "6AjVFQhpNnix",
    "outputId": "41fd3719-c836-4bcd-863b-810c5f8aaec5"
   },
   "outputs": [
    {
     "name": "stderr",
     "output_type": "stream",
     "text": [
      "/usr/local/lib/python3.6/dist-packages/statsmodels/tools/_testing.py:19: FutureWarning: pandas.util.testing is deprecated. Use the functions in the public API at pandas.testing instead.\n",
      "  import pandas.util.testing as tm\n"
     ]
    }
   ],
   "source": [
    "# importing required libraries\n",
    "import pandas as pd\n",
    "import seaborn as sns\n",
    "import pandas_profiling as pp\n",
    "import matplotlib.pyplot as plt\n",
    "%matplotlib inline"
   ]
  },
  {
   "cell_type": "code",
   "execution_count": 2,
   "metadata": {
    "colab": {
     "base_uri": "https://localhost:8080/",
     "height": 34
    },
    "colab_type": "code",
    "id": "69JYQsZ9N0-2",
    "outputId": "9d6b7b51-a394-45d1-e7b7-0ea1812da972"
   },
   "outputs": [
    {
     "name": "stdout",
     "output_type": "stream",
     "text": [
      "Number of posts in data: 17653\n"
     ]
    }
   ],
   "source": [
    "# loading the scraped data\n",
    "df = pd.read_csv('data_final.csv')\n",
    "print('Number of posts in data: {}'.format(len(df)))"
   ]
  },
  {
   "cell_type": "code",
   "execution_count": 3,
   "metadata": {
    "colab": {
     "base_uri": "https://localhost:8080/",
     "height": 649
    },
    "colab_type": "code",
    "id": "DJvvG8aCPiT2",
    "outputId": "37350b78-5f80-4984-e34a-803caad5a87b"
   },
   "outputs": [
    {
     "data": {
      "text/html": [
       "<div>\n",
       "<style scoped>\n",
       "    .dataframe tbody tr th:only-of-type {\n",
       "        vertical-align: middle;\n",
       "    }\n",
       "\n",
       "    .dataframe tbody tr th {\n",
       "        vertical-align: top;\n",
       "    }\n",
       "\n",
       "    .dataframe thead th {\n",
       "        text-align: right;\n",
       "    }\n",
       "</style>\n",
       "<table border=\"1\" class=\"dataframe\">\n",
       "  <thead>\n",
       "    <tr style=\"text-align: right;\">\n",
       "      <th></th>\n",
       "      <th>PostUploadTime</th>\n",
       "      <th>Headline</th>\n",
       "      <th>Flair</th>\n",
       "      <th>Rating</th>\n",
       "      <th>UserName</th>\n",
       "      <th>UserPostKarma</th>\n",
       "      <th>UserCommentKarma</th>\n",
       "      <th>Id</th>\n",
       "      <th>PostSource</th>\n",
       "      <th>NumComments</th>\n",
       "      <th>Comments</th>\n",
       "      <th>PostBody</th>\n",
       "    </tr>\n",
       "  </thead>\n",
       "  <tbody>\n",
       "    <tr>\n",
       "      <th>0</th>\n",
       "      <td>1.587106e+09</td>\n",
       "      <td>Man Arrested For Allegedly Spitting On Manipur...</td>\n",
       "      <td>Non-Political</td>\n",
       "      <td>111</td>\n",
       "      <td>ReallyRedditLover</td>\n",
       "      <td>1008.0</td>\n",
       "      <td>116.0</td>\n",
       "      <td>g2ph3l</td>\n",
       "      <td>https://www.ndtv.com/mumbai-news/man-arrested-...</td>\n",
       "      <td>7</td>\n",
       "      <td>&gt;The accused was identified as **Amir Khan** ,...</td>\n",
       "      <td>NaN</td>\n",
       "    </tr>\n",
       "    <tr>\n",
       "      <th>1</th>\n",
       "      <td>1.587106e+09</td>\n",
       "      <td>Bought air tickets during lockdown? Full refun...</td>\n",
       "      <td>Coronavirus</td>\n",
       "      <td>8</td>\n",
       "      <td>ReallyRedditLover</td>\n",
       "      <td>1008.0</td>\n",
       "      <td>116.0</td>\n",
       "      <td>g2pg1d</td>\n",
       "      <td>https://timesofindia.indiatimes.com/business/i...</td>\n",
       "      <td>2</td>\n",
       "      <td>So, If I booked the ticket on 21st for 26th Ma...</td>\n",
       "      <td>NaN</td>\n",
       "    </tr>\n",
       "    <tr>\n",
       "      <th>2</th>\n",
       "      <td>1.587105e+09</td>\n",
       "      <td>Bollywood Nazis: A Tale of Two Sisters</td>\n",
       "      <td>Politics</td>\n",
       "      <td>19</td>\n",
       "      <td>iSalaamU</td>\n",
       "      <td>32174.0</td>\n",
       "      <td>14938.0</td>\n",
       "      <td>g2pd5o</td>\n",
       "      <td>https://www.reddit.com/r/india/comments/g2pd5o...</td>\n",
       "      <td>7</td>\n",
       "      <td>Woah so permanent ban right ? Not temporary .....</td>\n",
       "      <td>Yesterday, Twitter permanently suspended the a...</td>\n",
       "    </tr>\n",
       "    <tr>\n",
       "      <th>3</th>\n",
       "      <td>1.587105e+09</td>\n",
       "      <td>On this occasion of Rongāli bihu, I'd love to ...</td>\n",
       "      <td>Non-Political</td>\n",
       "      <td>10</td>\n",
       "      <td>deboo117</td>\n",
       "      <td>8370.0</td>\n",
       "      <td>2700.0</td>\n",
       "      <td>g2p97t</td>\n",
       "      <td>https://open.spotify.com/playlist/21uBCM64wmKV...</td>\n",
       "      <td>0</td>\n",
       "      <td>NaN</td>\n",
       "      <td>NaN</td>\n",
       "    </tr>\n",
       "    <tr>\n",
       "      <th>4</th>\n",
       "      <td>1.587104e+09</td>\n",
       "      <td>A Tweet Asking For Muslims And Journalists To ...</td>\n",
       "      <td>Coronavirus</td>\n",
       "      <td>1</td>\n",
       "      <td>NaN</td>\n",
       "      <td>NaN</td>\n",
       "      <td>NaN</td>\n",
       "      <td>g2ovv5</td>\n",
       "      <td>https://www.buzzfeednews.com/article/pranavdix...</td>\n",
       "      <td>1</td>\n",
       "      <td>NaN</td>\n",
       "      <td>[deleted]</td>\n",
       "    </tr>\n",
       "  </tbody>\n",
       "</table>\n",
       "</div>"
      ],
      "text/plain": [
       "   PostUploadTime  ...                                           PostBody\n",
       "0    1.587106e+09  ...                                                NaN\n",
       "1    1.587106e+09  ...                                                NaN\n",
       "2    1.587105e+09  ...  Yesterday, Twitter permanently suspended the a...\n",
       "3    1.587105e+09  ...                                                NaN\n",
       "4    1.587104e+09  ...                                          [deleted]\n",
       "\n",
       "[5 rows x 12 columns]"
      ]
     },
     "execution_count": 3,
     "metadata": {
      "tags": []
     },
     "output_type": "execute_result"
    }
   ],
   "source": [
    "df.head()"
   ]
  },
  {
   "cell_type": "markdown",
   "metadata": {},
   "source": [
    "***-> Let's see what does the data contain***\n",
    "1. ```PostUploadTime``` - time stamp of the moment when the post is uploaded on reddit\n",
    "2. ```Headline``` - title of the post\n",
    "3. ```Flair``` - Flair category of the post\n",
    "4. ```Rating``` - rating on the post\n",
    "5. ```UserName``` - user name of the author of the post\n",
    "6. ```UserCommentKarma``` - It is a author's comment rating given based on comment activities done by the user\n",
    "7. ```UserPostKarma``` - Author's post rating, similar to comment karma\n",
    "8. ```Id``` - Every post has an unique id\n",
    "9. ```PostSource``` - url of the post\n",
    "10. ```NumComments``` - number of comments on the post\n",
    "11. ```PostBody``` - text body of the post\n",
    "12. ```Comments``` - top 10 comments on the post(concatenated)"
   ]
  },
  {
   "cell_type": "code",
   "execution_count": 4,
   "metadata": {
    "colab": {
     "base_uri": "https://localhost:8080/",
     "height": 297
    },
    "colab_type": "code",
    "id": "i77jeA2wwAul",
    "outputId": "9e5ee09f-30ad-4f71-fb32-4874be8e1467"
   },
   "outputs": [
    {
     "data": {
      "text/html": [
       "<div>\n",
       "<style scoped>\n",
       "    .dataframe tbody tr th:only-of-type {\n",
       "        vertical-align: middle;\n",
       "    }\n",
       "\n",
       "    .dataframe tbody tr th {\n",
       "        vertical-align: top;\n",
       "    }\n",
       "\n",
       "    .dataframe thead th {\n",
       "        text-align: right;\n",
       "    }\n",
       "</style>\n",
       "<table border=\"1\" class=\"dataframe\">\n",
       "  <thead>\n",
       "    <tr style=\"text-align: right;\">\n",
       "      <th></th>\n",
       "      <th>PostUploadTime</th>\n",
       "      <th>Rating</th>\n",
       "      <th>UserPostKarma</th>\n",
       "      <th>UserCommentKarma</th>\n",
       "      <th>NumComments</th>\n",
       "    </tr>\n",
       "  </thead>\n",
       "  <tbody>\n",
       "    <tr>\n",
       "      <th>count</th>\n",
       "      <td>1.765300e+04</td>\n",
       "      <td>17653.000000</td>\n",
       "      <td>1.158700e+04</td>\n",
       "      <td>11587.000000</td>\n",
       "      <td>17653.000000</td>\n",
       "    </tr>\n",
       "    <tr>\n",
       "      <th>mean</th>\n",
       "      <td>1.582924e+09</td>\n",
       "      <td>51.721011</td>\n",
       "      <td>2.445493e+04</td>\n",
       "      <td>8012.131268</td>\n",
       "      <td>7.284484</td>\n",
       "    </tr>\n",
       "    <tr>\n",
       "      <th>std</th>\n",
       "      <td>3.811376e+06</td>\n",
       "      <td>244.311097</td>\n",
       "      <td>9.759770e+04</td>\n",
       "      <td>18214.542712</td>\n",
       "      <td>26.116591</td>\n",
       "    </tr>\n",
       "    <tr>\n",
       "      <th>min</th>\n",
       "      <td>1.573901e+09</td>\n",
       "      <td>0.000000</td>\n",
       "      <td>1.000000e+00</td>\n",
       "      <td>-100.000000</td>\n",
       "      <td>0.000000</td>\n",
       "    </tr>\n",
       "    <tr>\n",
       "      <th>25%</th>\n",
       "      <td>1.580428e+09</td>\n",
       "      <td>1.000000</td>\n",
       "      <td>2.560000e+02</td>\n",
       "      <td>67.500000</td>\n",
       "      <td>0.000000</td>\n",
       "    </tr>\n",
       "    <tr>\n",
       "      <th>50%</th>\n",
       "      <td>1.584195e+09</td>\n",
       "      <td>3.000000</td>\n",
       "      <td>3.901000e+03</td>\n",
       "      <td>1170.000000</td>\n",
       "      <td>0.000000</td>\n",
       "    </tr>\n",
       "    <tr>\n",
       "      <th>75%</th>\n",
       "      <td>1.586018e+09</td>\n",
       "      <td>26.000000</td>\n",
       "      <td>1.964600e+04</td>\n",
       "      <td>6679.000000</td>\n",
       "      <td>5.000000</td>\n",
       "    </tr>\n",
       "    <tr>\n",
       "      <th>max</th>\n",
       "      <td>1.587106e+09</td>\n",
       "      <td>12490.000000</td>\n",
       "      <td>3.380088e+06</td>\n",
       "      <td>296788.000000</td>\n",
       "      <td>1117.000000</td>\n",
       "    </tr>\n",
       "  </tbody>\n",
       "</table>\n",
       "</div>"
      ],
      "text/plain": [
       "       PostUploadTime        Rating  ...  UserCommentKarma   NumComments\n",
       "count    1.765300e+04  17653.000000  ...      11587.000000  17653.000000\n",
       "mean     1.582924e+09     51.721011  ...       8012.131268      7.284484\n",
       "std      3.811376e+06    244.311097  ...      18214.542712     26.116591\n",
       "min      1.573901e+09      0.000000  ...       -100.000000      0.000000\n",
       "25%      1.580428e+09      1.000000  ...         67.500000      0.000000\n",
       "50%      1.584195e+09      3.000000  ...       1170.000000      0.000000\n",
       "75%      1.586018e+09     26.000000  ...       6679.000000      5.000000\n",
       "max      1.587106e+09  12490.000000  ...     296788.000000   1117.000000\n",
       "\n",
       "[8 rows x 5 columns]"
      ]
     },
     "execution_count": 4,
     "metadata": {
      "tags": []
     },
     "output_type": "execute_result"
    }
   ],
   "source": [
    "# some detail about categorical(numerical) features\n",
    "df.describe()"
   ]
  },
  {
   "cell_type": "markdown",
   "metadata": {
    "colab_type": "text",
    "id": "SvrpckLawwHq"
   },
   "source": [
    "From above description we can see that the numComments does not have a significnt values, almost 50% of the values are near to zero.(50% of the data has zero comments)"
   ]
  },
  {
   "cell_type": "code",
   "execution_count": 5,
   "metadata": {
    "colab": {
     "base_uri": "https://localhost:8080/",
     "height": 340
    },
    "colab_type": "code",
    "id": "JVEvUcP3Pl51",
    "outputId": "db6a0b64-fa2e-48dd-ec8d-140975777abb"
   },
   "outputs": [
    {
     "name": "stdout",
     "output_type": "stream",
     "text": [
      "<class 'pandas.core.frame.DataFrame'>\n",
      "RangeIndex: 17653 entries, 0 to 17652\n",
      "Data columns (total 12 columns):\n",
      " #   Column            Non-Null Count  Dtype  \n",
      "---  ------            --------------  -----  \n",
      " 0   PostUploadTime    17653 non-null  float64\n",
      " 1   Headline          17653 non-null  object \n",
      " 2   Flair             17653 non-null  object \n",
      " 3   Rating            17653 non-null  int64  \n",
      " 4   UserName          14307 non-null  object \n",
      " 5   UserPostKarma     11587 non-null  float64\n",
      " 6   UserCommentKarma  11587 non-null  float64\n",
      " 7   Id                17653 non-null  object \n",
      " 8   PostSource        17653 non-null  object \n",
      " 9   NumComments       17653 non-null  int64  \n",
      " 10  Comments          8037 non-null   object \n",
      " 11  PostBody          5928 non-null   object \n",
      "dtypes: float64(3), int64(2), object(7)\n",
      "memory usage: 1.6+ MB\n"
     ]
    }
   ],
   "source": [
    "# checking datatyope and non null values in each column\n",
    "df.info()"
   ]
  },
  {
   "cell_type": "markdown",
   "metadata": {
    "colab_type": "text",
    "id": "y5zuFxApjCbw"
   },
   "source": [
    "`Categorical Features` includes Flair, UserName, UserCommentaKarma, UserPostKarma, Rating, numComments<br>\n",
    "`Continueous Variables` includes Headline, Comments, PostBody.<br>\n",
    "In a certain way ***PostSource*** is not of any use in data exploration so this can be removed."
   ]
  },
  {
   "cell_type": "code",
   "execution_count": 6,
   "metadata": {
    "colab": {
     "base_uri": "https://localhost:8080/",
     "height": 394
    },
    "colab_type": "code",
    "id": "Zxf8sByakC0v",
    "outputId": "e178214a-0898-4531-9e7b-d5ecb78f1d95"
   },
   "outputs": [
    {
     "data": {
      "text/html": [
       "<div>\n",
       "<style scoped>\n",
       "    .dataframe tbody tr th:only-of-type {\n",
       "        vertical-align: middle;\n",
       "    }\n",
       "\n",
       "    .dataframe tbody tr th {\n",
       "        vertical-align: top;\n",
       "    }\n",
       "\n",
       "    .dataframe thead th {\n",
       "        text-align: right;\n",
       "    }\n",
       "</style>\n",
       "<table border=\"1\" class=\"dataframe\">\n",
       "  <thead>\n",
       "    <tr style=\"text-align: right;\">\n",
       "      <th></th>\n",
       "      <th>PostUploadTime</th>\n",
       "      <th>Headline</th>\n",
       "      <th>Flair</th>\n",
       "      <th>Rating</th>\n",
       "      <th>UserName</th>\n",
       "      <th>UserPostKarma</th>\n",
       "      <th>UserCommentKarma</th>\n",
       "      <th>Id</th>\n",
       "      <th>NumComments</th>\n",
       "      <th>Comments</th>\n",
       "      <th>PostBody</th>\n",
       "    </tr>\n",
       "  </thead>\n",
       "  <tbody>\n",
       "    <tr>\n",
       "      <th>0</th>\n",
       "      <td>1.587106e+09</td>\n",
       "      <td>Man Arrested For Allegedly Spitting On Manipur...</td>\n",
       "      <td>Non-Political</td>\n",
       "      <td>111</td>\n",
       "      <td>ReallyRedditLover</td>\n",
       "      <td>1008.0</td>\n",
       "      <td>116.0</td>\n",
       "      <td>g2ph3l</td>\n",
       "      <td>7</td>\n",
       "      <td>&gt;The accused was identified as **Amir Khan** ,...</td>\n",
       "      <td>NaN</td>\n",
       "    </tr>\n",
       "    <tr>\n",
       "      <th>1</th>\n",
       "      <td>1.587106e+09</td>\n",
       "      <td>Bought air tickets during lockdown? Full refun...</td>\n",
       "      <td>Coronavirus</td>\n",
       "      <td>8</td>\n",
       "      <td>ReallyRedditLover</td>\n",
       "      <td>1008.0</td>\n",
       "      <td>116.0</td>\n",
       "      <td>g2pg1d</td>\n",
       "      <td>2</td>\n",
       "      <td>So, If I booked the ticket on 21st for 26th Ma...</td>\n",
       "      <td>NaN</td>\n",
       "    </tr>\n",
       "    <tr>\n",
       "      <th>2</th>\n",
       "      <td>1.587105e+09</td>\n",
       "      <td>Bollywood Nazis: A Tale of Two Sisters</td>\n",
       "      <td>Politics</td>\n",
       "      <td>19</td>\n",
       "      <td>iSalaamU</td>\n",
       "      <td>32174.0</td>\n",
       "      <td>14938.0</td>\n",
       "      <td>g2pd5o</td>\n",
       "      <td>7</td>\n",
       "      <td>Woah so permanent ban right ? Not temporary .....</td>\n",
       "      <td>Yesterday, Twitter permanently suspended the a...</td>\n",
       "    </tr>\n",
       "    <tr>\n",
       "      <th>3</th>\n",
       "      <td>1.587105e+09</td>\n",
       "      <td>On this occasion of Rongāli bihu, I'd love to ...</td>\n",
       "      <td>Non-Political</td>\n",
       "      <td>10</td>\n",
       "      <td>deboo117</td>\n",
       "      <td>8370.0</td>\n",
       "      <td>2700.0</td>\n",
       "      <td>g2p97t</td>\n",
       "      <td>0</td>\n",
       "      <td>NaN</td>\n",
       "      <td>NaN</td>\n",
       "    </tr>\n",
       "  </tbody>\n",
       "</table>\n",
       "</div>"
      ],
      "text/plain": [
       "   PostUploadTime  ...                                           PostBody\n",
       "0    1.587106e+09  ...                                                NaN\n",
       "1    1.587106e+09  ...                                                NaN\n",
       "2    1.587105e+09  ...  Yesterday, Twitter permanently suspended the a...\n",
       "3    1.587105e+09  ...                                                NaN\n",
       "\n",
       "[4 rows x 11 columns]"
      ]
     },
     "execution_count": 6,
     "metadata": {
      "tags": []
     },
     "output_type": "execute_result"
    }
   ],
   "source": [
    "df.drop('PostSource', inplace = True, axis = 1)\n",
    "df.head(4)"
   ]
  },
  {
   "cell_type": "markdown",
   "metadata": {
    "colab_type": "text",
    "id": "-cq60bnUmMoL"
   },
   "source": [
    "As the data is extracted using pushshift api, so it gave the data sorted on base of time of submiossion. Now the complete date and time is no use in text classification, instead I am going to just use only month of submission, bcoz the complete data is between 12 months so no effect of year values."
   ]
  },
  {
   "cell_type": "code",
   "execution_count": 7,
   "metadata": {
    "colab": {
     "base_uri": "https://localhost:8080/",
     "height": 68
    },
    "colab_type": "code",
    "id": "kV9d7QMqPzmG",
    "outputId": "1d79427c-e2b7-4cf7-d75f-57b3c53f1bf6"
   },
   "outputs": [
    {
     "data": {
      "text/plain": [
       "array(['Non-Political', 'Coronavirus', 'Politics', 'Policy/Economy',\n",
       "       'Food', 'Science/Technology', 'Business/Finance', 'Photography',\n",
       "       'Sports'], dtype=object)"
      ]
     },
     "execution_count": 7,
     "metadata": {
      "tags": []
     },
     "output_type": "execute_result"
    }
   ],
   "source": [
    "# unique flairs present in the data\n",
    "df['Flair'].unique()"
   ]
  },
  {
   "cell_type": "code",
   "execution_count": 8,
   "metadata": {
    "colab": {
     "base_uri": "https://localhost:8080/",
     "height": 305
    },
    "colab_type": "code",
    "id": "klyxODuliq-_",
    "outputId": "fdbe0345-6cff-4f55-f81d-bad09bd16391"
   },
   "outputs": [
    {
     "data": {
      "image/png": "[encoded data removed]",
      "text/plain": [
       "<Figure size 432x288 with 1 Axes>"
      ]
     },
     "metadata": {
      "needs_background": "light",
      "tags": []
     },
     "output_type": "display_data"
    }
   ],
   "source": [
    "# plotting the amount of posts based on the flair class in the data\n",
    "fig = plt.figure()\n",
    "sns.countplot(x='Flair', data = df)\n",
    "fig.autofmt_xdate()"
   ]
  },
  {
   "cell_type": "markdown",
   "metadata": {
    "colab_type": "text",
    "id": "oknAtSSMrGRg"
   },
   "source": [
    "Data on basis of flair class is not much imbalanced. As for the food and sports category the data insufficiency might be a problem.<br>\n",
    "It is obvious that the non-political, Politics and Coronovirus flaired posts are highly abundant.<br>\n",
    "Although many other flairs are avialable on the subreddit but i have picked only a few based on quantity they are present."
   ]
  },
  {
   "cell_type": "code",
   "execution_count": 9,
   "metadata": {
    "colab": {
     "base_uri": "https://localhost:8080/",
     "height": 819
    },
    "colab_type": "code",
    "id": "5QzLDq-mRrI9",
    "outputId": "5a725e6c-f5cb-4f75-d180-2328494edf45"
   },
   "outputs": [
    {
     "name": "stdout",
     "output_type": "stream",
     "text": [
      "Number of nan Values in PostUploadTime: 0\n",
      "Number of [removed] Values: 0\n",
      "Number of [deleted] Values: 0\n",
      "\n",
      "Number of nan Values in Headline: 0\n",
      "Number of [removed] Values: 0\n",
      "Number of [deleted] Values: 0\n",
      "\n",
      "Number of nan Values in Flair: 0\n",
      "Number of [removed] Values: 0\n",
      "Number of [deleted] Values: 0\n",
      "\n",
      "Number of nan Values in Rating: 0\n",
      "Number of [removed] Values: 0\n",
      "Number of [deleted] Values: 0\n",
      "\n",
      "Number of nan Values in UserName: 3346\n",
      "Number of [removed] Values: 0\n",
      "Number of [deleted] Values: 0\n",
      "\n",
      "Number of nan Values in UserPostKarma: 6066\n",
      "Number of [removed] Values: 0\n",
      "Number of [deleted] Values: 0\n",
      "\n",
      "Number of nan Values in UserCommentKarma: 6066\n",
      "Number of [removed] Values: 0\n",
      "Number of [deleted] Values: 0\n",
      "\n",
      "Number of nan Values in Id: 0\n",
      "Number of [removed] Values: 0\n",
      "Number of [deleted] Values: 0\n",
      "\n",
      "Number of nan Values in NumComments: 0\n",
      "Number of [removed] Values: 0\n",
      "Number of [deleted] Values: 0\n",
      "\n",
      "Number of nan Values in Comments: 9616\n",
      "Number of [removed] Values: 15\n",
      "Number of [deleted] Values: 41\n",
      "\n",
      "Number of nan Values in PostBody: 11725\n",
      "Number of [removed] Values: 1756\n",
      "Number of [deleted] Values: 2650\n",
      "\n"
     ]
    },
    {
     "name": "stderr",
     "output_type": "stream",
     "text": [
      "/usr/local/lib/python3.6/dist-packages/pandas/core/ops/array_ops.py:253: FutureWarning: elementwise comparison failed; returning scalar instead, but in the future will perform elementwise comparison\n",
      "  res_values = method(rvalues)\n"
     ]
    }
   ],
   "source": [
    "# checking the number of removed and deleted value in every feature in the data\n",
    "for head in df:\n",
    "  print('Number of nan Values in {}: {}'.format(head, df[head].isnull().sum()))\n",
    "  print('Number of [removed] Values: {}'.format((df[head]=='[removed]').sum()))\n",
    "  print('Number of [deleted] Values: {}'.format((df[head]=='[deleted]').sum()))\n",
    "  print(\"\")"
   ]
  },
  {
   "cell_type": "code",
   "execution_count": 10,
   "metadata": {
    "colab": {
     "base_uri": "https://localhost:8080/",
     "height": 298
    },
    "colab_type": "code",
    "id": "rf1U8aLjC4wA",
    "outputId": "758058b7-4842-422f-8f6f-11c30ffb761f"
   },
   "outputs": [
    {
     "data": {
      "image/png": "[encoded data removed]",
      "text/plain": [
       "<Figure size 432x288 with 2 Axes>"
      ]
     },
     "metadata": {
      "needs_background": "light",
      "tags": []
     },
     "output_type": "display_data"
    }
   ],
   "source": [
    "# (pearson's corr)correlation matrix.\n",
    "corr = df.corr()\n",
    "fig = plt.figure()\n",
    "ax = sns.heatmap(corr, \n",
    "                vmin=-1, vmax=1, center=0,\n",
    "                cmap=sns.diverging_palette(20, 220, n=200))\n",
    "fig.autofmt_xdate()"
   ]
  },
  {
   "cell_type": "markdown",
   "metadata": {
    "colab_type": "text",
    "id": "I0iEp8m2D8TE"
   },
   "source": [
    "- There is not much correlation between categorical numerical(categorical) variables<br>\n",
    "- Although Userpostkarma and UserCommentKarma have correlation of around 0.5.<br>\n",
    "- So instead of having two seperate columns we can merge them, this would reduce the causes of dependency and also reduces the complexity of data"
   ]
  },
  {
   "cell_type": "code",
   "execution_count": 12,
   "metadata": {
    "colab": {
     "base_uri": "https://localhost:8080/",
     "height": 221
    },
    "colab_type": "code",
    "id": "AhfDJPBRSv8P",
    "outputId": "13a521f9-0e5d-4957-fb4e-e213c5bd336b"
   },
   "outputs": [
    {
     "data": {
      "text/plain": [
       "0         1124.0\n",
       "1         1124.0\n",
       "2        47112.0\n",
       "3        11070.0\n",
       "4            0.0\n",
       "          ...   \n",
       "17648        0.0\n",
       "17649        0.0\n",
       "17650    43558.0\n",
       "17651    43558.0\n",
       "17652      345.0\n",
       "Name: UserKarma, Length: 17653, dtype: float64"
      ]
     },
     "execution_count": 12,
     "metadata": {
      "tags": []
     },
     "output_type": "execute_result"
    }
   ],
   "source": [
    "# adding a new feature UserKarma := UserPostKarma + UserCommentKarma\n",
    "# as the UserCommentkarma and UserPostKarma contains nan values i will consider them as 0 value.\n",
    "from math import isnan\n",
    "df['UserCommentKarma'] =  df['UserCommentKarma'].fillna(0)\n",
    "df['UserPostKarma'] =  df['UserPostKarma'].fillna(0)\n",
    "df['UserKarma'] = df['UserCommentKarma']+ df['UserPostKarma']\n",
    "df.UserKarma"
   ]
  },
  {
   "cell_type": "code",
   "execution_count": 13,
   "metadata": {
    "colab": {
     "base_uri": "https://localhost:8080/",
     "height": 887
    },
    "colab_type": "code",
    "id": "k0IMZ42eHNoZ",
    "outputId": "d793f190-9a79-41aa-c6b1-7492a81e6dad"
   },
   "outputs": [
    {
     "name": "stdout",
     "output_type": "stream",
     "text": [
      "Number of nan Values in PostUploadTime: 0\n",
      "Number of [removed] Values: 0\n",
      "Number of [deleted] Values: 0\n",
      "\n",
      "Number of nan Values in Headline: 0\n",
      "Number of [removed] Values: 0\n",
      "Number of [deleted] Values: 0\n",
      "\n",
      "Number of nan Values in Flair: 0\n",
      "Number of [removed] Values: 0\n",
      "Number of [deleted] Values: 0\n",
      "\n",
      "Number of nan Values in Rating: 0\n",
      "Number of [removed] Values: 0\n",
      "Number of [deleted] Values: 0\n",
      "\n",
      "Number of nan Values in UserName: 3346\n",
      "Number of [removed] Values: 0\n",
      "Number of [deleted] Values: 0\n",
      "\n",
      "Number of nan Values in UserPostKarma: 0\n",
      "Number of [removed] Values: 0\n",
      "Number of [deleted] Values: 0\n",
      "\n",
      "Number of nan Values in UserCommentKarma: 0\n",
      "Number of [removed] Values: 0\n",
      "Number of [deleted] Values: 0\n",
      "\n",
      "Number of nan Values in Id: 0\n",
      "Number of [removed] Values: 0\n",
      "Number of [deleted] Values: 0\n",
      "\n",
      "Number of nan Values in NumComments: 0\n",
      "Number of [removed] Values: 0\n",
      "Number of [deleted] Values: 0\n",
      "\n",
      "Number of nan Values in Comments: 9616\n",
      "Number of [removed] Values: 15\n",
      "Number of [deleted] Values: 41\n",
      "\n",
      "Number of nan Values in PostBody: 11725\n",
      "Number of [removed] Values: 1756\n",
      "Number of [deleted] Values: 2650\n",
      "\n",
      "Number of nan Values in UserKarma: 0\n",
      "Number of [removed] Values: 0\n",
      "Number of [deleted] Values: 0\n",
      "\n"
     ]
    },
    {
     "name": "stderr",
     "output_type": "stream",
     "text": [
      "/usr/local/lib/python3.6/dist-packages/pandas/core/ops/array_ops.py:253: FutureWarning: elementwise comparison failed; returning scalar instead, but in the future will perform elementwise comparison\n",
      "  res_values = method(rvalues)\n"
     ]
    }
   ],
   "source": [
    "# checking the number of removed and deleted value in every feature in the data\n",
    "for head in df:\n",
    "  print('Number of nan Values in {}: {}'.format(head, df[head].isnull().sum()))\n",
    "  print('Number of [removed] Values: {}'.format((df[head]=='[removed]').sum()))\n",
    "  print('Number of [deleted] Values: {}'.format((df[head]=='[deleted]').sum()))\n",
    "  print(\"\")"
   ]
  },
  {
   "cell_type": "code",
   "execution_count": 14,
   "metadata": {
    "colab": {
     "base_uri": "https://localhost:8080/",
     "height": 119
    },
    "colab_type": "code",
    "id": "0tf7kYkuumTN",
    "outputId": "a42236f4-876c-4df0-e8b2-bf5496076b0c"
   },
   "outputs": [
    {
     "name": "stdout",
     "output_type": "stream",
     "text": [
      "Number of '[removed]' Values: 0\n",
      "Number of '[deleted]' Values: 0\n",
      "\n",
      "Number of '[removed]' Values: 0\n",
      "Number of '[deleted]' Values: 0\n",
      "\n"
     ]
    }
   ],
   "source": [
    "# replacing the nan values in the postBody and comment to nullstring.\n",
    "df['PostBody'] = df['PostBody'].fillna(\"\")\n",
    "df['Comments'] = df['Comments'].fillna(\"\")\n",
    "\n",
    "# replacing the '[deleted]' and '[removed]' with null string from postbody and comments section\n",
    "df['PostBody'] = df['PostBody'].replace('[removed]', '')\n",
    "df['PostBody'] = df['PostBody'].replace('[deleted]', '')\n",
    "df['Comments'] = df['Comments'].replace('[removed]', '')\n",
    "df['Comments'] = df['Comments'].replace('[deleted]', '')\n",
    "\n",
    "# checking the number of removed and deleted value in Comment and PostBody features\n",
    "for head in [df.Comments, df.PostBody]:\n",
    "  print(\"Number of '[removed]' Values: {}\".format((head=='[removed]').sum()))\n",
    "  print(\"Number of '[deleted]' Values: {}\".format((head=='[deleted]').sum()))\n",
    "  print(\"\")"
   ]
  },
  {
   "cell_type": "code",
   "execution_count": 15,
   "metadata": {
    "colab": {
     "base_uri": "https://localhost:8080/",
     "height": 1000
    },
    "colab_type": "code",
    "id": "koKOB95cFTco",
    "outputId": "81cae1da-e6c5-499a-873c-c99f3d3986f1"
   },
   "outputs": [
    {
     "data": {
      "image/png": "[encoded data removed]",
      "text/plain": [
       "<Figure size 432x288 with 1 Axes>"
      ]
     },
     "metadata": {
      "needs_background": "light",
      "tags": []
     },
     "output_type": "display_data"
    },
    {
     "data": {
      "image/png": "[encoded data removed]",
      "text/plain": [
       "<Figure size 432x288 with 1 Axes>"
      ]
     },
     "metadata": {
      "needs_background": "light",
      "tags": []
     },
     "output_type": "display_data"
    },
    {
     "data": {
      "image/png": "[encoded data removed]",
      "text/plain": [
       "<Figure size 432x288 with 1 Axes>"
      ]
     },
     "metadata": {
      "needs_background": "light",
      "tags": []
     },
     "output_type": "display_data"
    },
    {
     "data": {
      "image/png": "[encoded data removed]",
      "text/plain": [
       "<Figure size 432x288 with 1 Axes>"
      ]
     },
     "metadata": {
      "needs_background": "light",
      "tags": []
     },
     "output_type": "display_data"
    },
    {
     "name": "stdout",
     "output_type": "stream",
     "text": [
      "----Skewness----\n",
      "PostUploadTime      -0.922937\n",
      "Rating              19.572519\n",
      "UserPostKarma       24.109006\n",
      "UserCommentKarma     6.635881\n",
      "NumComments         13.477360\n",
      "UserKarma           22.398314\n",
      "dtype: float64\n"
     ]
    }
   ],
   "source": [
    "# checking for skewed data\n",
    "for feature in ['UserCommentKarma', 'UserPostKarma', 'Rating', 'NumComments']:\n",
    "  df[feature].plot.hist(alpha=0.5, bins=25, grid = True)\n",
    "  plt.xlabel(feature)\n",
    "  plt.show()\n",
    "\n",
    "print('----Skewness----')\n",
    "print(df.skew(axis = 0, skipna = True))"
   ]
  },
  {
   "cell_type": "code",
   "execution_count": 0,
   "metadata": {
    "colab": {
     "base_uri": "https://localhost:8080/",
     "height": 884
    },
    "colab_type": "code",
    "id": "Kw5x5W0LZ-pY",
    "outputId": "ba73e20d-71a3-40ee-a179-a411aaf2dfb2"
   },
   "outputs": [
    {
     "data": {
      "text/plain": [
       "iali307               173\n",
       "sudden_dust           133\n",
       "harddisc              114\n",
       "cncrndctzn2           111\n",
       "Dumma1729             102\n",
       "silentr3b31            92\n",
       "hipporama              79\n",
       "gogajabbi              76\n",
       "AlternativeDrop6       76\n",
       "pramodc84              76\n",
       "india_ko_vanakkam      75\n",
       "satyasys               74\n",
       "BrandBrahma            74\n",
       "GL4389                 72\n",
       "ShabbitRabbit          72\n",
       "aviakki1               71\n",
       "vv4life                68\n",
       "pkmcreation            67\n",
       "Ku_hu                  66\n",
       "Neglectedsince1994     65\n",
       "InternetFreedomIn      64\n",
       "Shellynoire            63\n",
       "yashikamaroon          63\n",
       "iamfawad               61\n",
       "Hanuwoman              60\n",
       "dlisfyn                59\n",
       "thelielmao             55\n",
       "imwithinme             52\n",
       "ppatra                 51\n",
       "GlobalCitizen12345     51\n",
       "Budget-Independent     50\n",
       "Gadgetbridge           49\n",
       "BabaGyaanchod          48\n",
       "hammyhammad            48\n",
       "policychettan          47\n",
       "MayaSmithQms           47\n",
       "rana1500               46\n",
       "HornOK                 46\n",
       "Fabulous-Rice          44\n",
       "Web-Design-Seo         41\n",
       "rsz619mania            39\n",
       "shikhar_reddit123      39\n",
       "ParmanuMan             38\n",
       "nifsinstitute          38\n",
       "2YoDoINDIA             37\n",
       "worriedpast            36\n",
       "Facultytick            36\n",
       "koshyg15               33\n",
       "Mulaayam_Yadav         33\n",
       "thewebdev              32\n",
       "Name: UserName, dtype: int64"
      ]
     },
     "execution_count": 18,
     "metadata": {
      "tags": []
     },
     "output_type": "execute_result"
    }
   ],
   "source": [
    "df['UserName'].value_counts()[:50]"
   ]
  },
  {
   "cell_type": "code",
   "execution_count": 0,
   "metadata": {
    "colab": {
     "base_uri": "https://localhost:8080/",
     "height": 204
    },
    "colab_type": "code",
    "id": "FXILvCFBwfLj",
    "outputId": "31024352-71f4-41d8-8379-94e665dd3f2b"
   },
   "outputs": [
    {
     "data": {
      "text/html": [
       "<div>\n",
       "<style scoped>\n",
       "    .dataframe tbody tr th:only-of-type {\n",
       "        vertical-align: middle;\n",
       "    }\n",
       "\n",
       "    .dataframe tbody tr th {\n",
       "        vertical-align: top;\n",
       "    }\n",
       "\n",
       "    .dataframe thead th {\n",
       "        text-align: right;\n",
       "    }\n",
       "</style>\n",
       "<table border=\"1\" class=\"dataframe\">\n",
       "  <thead>\n",
       "    <tr style=\"text-align: right;\">\n",
       "      <th></th>\n",
       "      <th>text</th>\n",
       "      <th>flair</th>\n",
       "    </tr>\n",
       "  </thead>\n",
       "  <tbody>\n",
       "    <tr>\n",
       "      <th>0</th>\n",
       "      <td>Man Arrested For Allegedly Spitting On Manipur...</td>\n",
       "      <td>Non-Political</td>\n",
       "    </tr>\n",
       "    <tr>\n",
       "      <th>1</th>\n",
       "      <td>Bought air tickets during lockdown? Full refun...</td>\n",
       "      <td>Coronavirus</td>\n",
       "    </tr>\n",
       "    <tr>\n",
       "      <th>2</th>\n",
       "      <td>Bollywood Nazis: A Tale of Two SistersYesterda...</td>\n",
       "      <td>Politics</td>\n",
       "    </tr>\n",
       "    <tr>\n",
       "      <th>3</th>\n",
       "      <td>On this occasion of Rongāli bihu, I'd love to ...</td>\n",
       "      <td>Non-Political</td>\n",
       "    </tr>\n",
       "    <tr>\n",
       "      <th>4</th>\n",
       "      <td>A Tweet Asking For Muslims And Journalists To ...</td>\n",
       "      <td>Coronavirus</td>\n",
       "    </tr>\n",
       "  </tbody>\n",
       "</table>\n",
       "</div>"
      ],
      "text/plain": [
       "                                                text          flair\n",
       "0  Man Arrested For Allegedly Spitting On Manipur...  Non-Political\n",
       "1  Bought air tickets during lockdown? Full refun...    Coronavirus\n",
       "2  Bollywood Nazis: A Tale of Two SistersYesterda...       Politics\n",
       "3  On this occasion of Rongāli bihu, I'd love to ...  Non-Political\n",
       "4  A Tweet Asking For Muslims And Journalists To ...    Coronavirus"
      ]
     },
     "execution_count": 223,
     "metadata": {
      "tags": []
     },
     "output_type": "execute_result"
    }
   ],
   "source": [
    "# appending all the text features in a post into one single column 'text'\n",
    "data = pd.DataFrame(columns=['text', 'flair'])\n",
    "data['text'] = df['Headline'].map(str) + df['PostBody'].map(str) + df['Comments'].map(str)\n",
    "data['flair'] = df['Flair'].map(str)\n",
    "data.head()"
   ]
  }
 ],
 "metadata": {
  "colab": {
   "collapsed_sections": [],
   "name": "analysis2.ipynb",
   "provenance": []
  },
  "kernelspec": {
   "display_name": "Python 3",
   "language": "python",
   "name": "python3"
  },
  "language_info": {
   "codemirror_mode": {
    "name": "ipython",
    "version": 3
   },
   "file_extension": ".py",
   "mimetype": "text/x-python",
   "name": "python",
   "nbconvert_exporter": "python",
   "pygments_lexer": "ipython3",
   "version": "3.7.4"
  }
 },
 "nbformat": 4,
 "nbformat_minor": 1
}
