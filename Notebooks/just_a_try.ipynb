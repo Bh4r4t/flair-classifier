{
  "nbformat": 4,
  "nbformat_minor": 0,
  "metadata": {
    "colab": {
      "name": "just_a_try.ipynb",
      "provenance": []
    },
    "kernelspec": {
      "name": "python3",
      "display_name": "Python 3"
    },
    "accelerator": "GPU"
  },
  "cells": [
    {
      "cell_type": "code",
      "metadata": {
        "id": "WB2ch5IZ-OAR",
        "colab_type": "code",
        "colab": {}
      },
      "source": [
        "import torch\n",
        "from torch import nn\n",
        "import pandas as pd\n",
        "from torch.utils.data import Dataset, DataLoader"
      ],
      "execution_count": 0,
      "outputs": []
    },
    {
      "cell_type": "code",
      "metadata": {
        "id": "Z_YqfeSO-Y6l",
        "colab_type": "code",
        "outputId": "fbaf45e9-1265-4c25-89e8-2783c5b84366",
        "colab": {
          "base_uri": "https://localhost:8080/",
          "height": 649
        }
      },
      "source": [
        "data = pd.read_csv('data_final3.csv')\n",
        "data.head()"
      ],
      "execution_count": 0,
      "outputs": [
        {
          "output_type": "execute_result",
          "data": {
            "text/html": [
              "<div>\n",
              "<style scoped>\n",
              "    .dataframe tbody tr th:only-of-type {\n",
              "        vertical-align: middle;\n",
              "    }\n",
              "\n",
              "    .dataframe tbody tr th {\n",
              "        vertical-align: top;\n",
              "    }\n",
              "\n",
              "    .dataframe thead th {\n",
              "        text-align: right;\n",
              "    }\n",
              "</style>\n",
              "<table border=\"1\" class=\"dataframe\">\n",
              "  <thead>\n",
              "    <tr style=\"text-align: right;\">\n",
              "      <th></th>\n",
              "      <th>PostUploadTime</th>\n",
              "      <th>Headline</th>\n",
              "      <th>Flair</th>\n",
              "      <th>Rating</th>\n",
              "      <th>UserName</th>\n",
              "      <th>UserPostKarma</th>\n",
              "      <th>UserCommentKarma</th>\n",
              "      <th>Id</th>\n",
              "      <th>PostSource</th>\n",
              "      <th>NumComments</th>\n",
              "      <th>Comments</th>\n",
              "      <th>PostBody</th>\n",
              "    </tr>\n",
              "  </thead>\n",
              "  <tbody>\n",
              "    <tr>\n",
              "      <th>0</th>\n",
              "      <td>1.587106e+09</td>\n",
              "      <td>Man Arrested For Allegedly Spitting On Manipur...</td>\n",
              "      <td>Non-Political</td>\n",
              "      <td>111</td>\n",
              "      <td>ReallyRedditLover</td>\n",
              "      <td>1008.0</td>\n",
              "      <td>116.0</td>\n",
              "      <td>g2ph3l</td>\n",
              "      <td>https://www.ndtv.com/mumbai-news/man-arrested-...</td>\n",
              "      <td>7</td>\n",
              "      <td>&gt;The accused was identified as **Amir Khan** ,...</td>\n",
              "      <td>NaN</td>\n",
              "    </tr>\n",
              "    <tr>\n",
              "      <th>1</th>\n",
              "      <td>1.587106e+09</td>\n",
              "      <td>Bought air tickets during lockdown? Full refun...</td>\n",
              "      <td>Coronavirus</td>\n",
              "      <td>8</td>\n",
              "      <td>ReallyRedditLover</td>\n",
              "      <td>1008.0</td>\n",
              "      <td>116.0</td>\n",
              "      <td>g2pg1d</td>\n",
              "      <td>https://timesofindia.indiatimes.com/business/i...</td>\n",
              "      <td>2</td>\n",
              "      <td>So, If I booked the ticket on 21st for 26th Ma...</td>\n",
              "      <td>NaN</td>\n",
              "    </tr>\n",
              "    <tr>\n",
              "      <th>2</th>\n",
              "      <td>1.587105e+09</td>\n",
              "      <td>Bollywood Nazis: A Tale of Two Sisters</td>\n",
              "      <td>Politics</td>\n",
              "      <td>19</td>\n",
              "      <td>iSalaamU</td>\n",
              "      <td>32174.0</td>\n",
              "      <td>14938.0</td>\n",
              "      <td>g2pd5o</td>\n",
              "      <td>https://www.reddit.com/r/india/comments/g2pd5o...</td>\n",
              "      <td>7</td>\n",
              "      <td>Woah so permanent ban right ? Not temporary .....</td>\n",
              "      <td>Yesterday, Twitter permanently suspended the a...</td>\n",
              "    </tr>\n",
              "    <tr>\n",
              "      <th>3</th>\n",
              "      <td>1.587105e+09</td>\n",
              "      <td>On this occasion of Rongāli bihu, I'd love to ...</td>\n",
              "      <td>Non-Political</td>\n",
              "      <td>10</td>\n",
              "      <td>deboo117</td>\n",
              "      <td>8370.0</td>\n",
              "      <td>2700.0</td>\n",
              "      <td>g2p97t</td>\n",
              "      <td>https://open.spotify.com/playlist/21uBCM64wmKV...</td>\n",
              "      <td>0</td>\n",
              "      <td>NaN</td>\n",
              "      <td>NaN</td>\n",
              "    </tr>\n",
              "    <tr>\n",
              "      <th>4</th>\n",
              "      <td>1.587104e+09</td>\n",
              "      <td>A Tweet Asking For Muslims And Journalists To ...</td>\n",
              "      <td>Coronavirus</td>\n",
              "      <td>1</td>\n",
              "      <td>NaN</td>\n",
              "      <td>NaN</td>\n",
              "      <td>NaN</td>\n",
              "      <td>g2ovv5</td>\n",
              "      <td>https://www.buzzfeednews.com/article/pranavdix...</td>\n",
              "      <td>1</td>\n",
              "      <td>NaN</td>\n",
              "      <td>[deleted]</td>\n",
              "    </tr>\n",
              "  </tbody>\n",
              "</table>\n",
              "</div>"
            ],
            "text/plain": [
              "   PostUploadTime  ...                                           PostBody\n",
              "0    1.587106e+09  ...                                                NaN\n",
              "1    1.587106e+09  ...                                                NaN\n",
              "2    1.587105e+09  ...  Yesterday, Twitter permanently suspended the a...\n",
              "3    1.587105e+09  ...                                                NaN\n",
              "4    1.587104e+09  ...                                          [deleted]\n",
              "\n",
              "[5 rows x 12 columns]"
            ]
          },
          "metadata": {
            "tags": []
          },
          "execution_count": 21
        }
      ]
    },
    {
      "cell_type": "markdown",
      "metadata": {
        "id": "zuCCySZaGgrK",
        "colab_type": "text"
      },
      "source": [
        "# Flair Classification\n",
        "\n",
        "1. Using all the numerical columns as features(independent variable). Predicting Flair class using only numerical data<br>\n",
        "  model: ***XGBoost***"
      ]
    },
    {
      "cell_type": "code",
      "metadata": {
        "id": "dNQkSv4aDHmK",
        "colab_type": "code",
        "outputId": "cda26f1b-0a13-4135-cf1f-dfcee3e82e23",
        "colab": {
          "base_uri": "https://localhost:8080/",
          "height": 204
        }
      },
      "source": [
        "#Data Pre Processing\n",
        "df = data.filter(['Flair', 'Rating', 'UserPostKarma', 'UserCommentKarma', 'NumComments'], axis = 1)\n",
        "df.head()"
      ],
      "execution_count": 0,
      "outputs": [
        {
          "output_type": "execute_result",
          "data": {
            "text/html": [
              "<div>\n",
              "<style scoped>\n",
              "    .dataframe tbody tr th:only-of-type {\n",
              "        vertical-align: middle;\n",
              "    }\n",
              "\n",
              "    .dataframe tbody tr th {\n",
              "        vertical-align: top;\n",
              "    }\n",
              "\n",
              "    .dataframe thead th {\n",
              "        text-align: right;\n",
              "    }\n",
              "</style>\n",
              "<table border=\"1\" class=\"dataframe\">\n",
              "  <thead>\n",
              "    <tr style=\"text-align: right;\">\n",
              "      <th></th>\n",
              "      <th>Flair</th>\n",
              "      <th>Rating</th>\n",
              "      <th>UserPostKarma</th>\n",
              "      <th>UserCommentKarma</th>\n",
              "      <th>NumComments</th>\n",
              "    </tr>\n",
              "  </thead>\n",
              "  <tbody>\n",
              "    <tr>\n",
              "      <th>0</th>\n",
              "      <td>Non-Political</td>\n",
              "      <td>111</td>\n",
              "      <td>1008.0</td>\n",
              "      <td>116.0</td>\n",
              "      <td>7</td>\n",
              "    </tr>\n",
              "    <tr>\n",
              "      <th>1</th>\n",
              "      <td>Coronavirus</td>\n",
              "      <td>8</td>\n",
              "      <td>1008.0</td>\n",
              "      <td>116.0</td>\n",
              "      <td>2</td>\n",
              "    </tr>\n",
              "    <tr>\n",
              "      <th>2</th>\n",
              "      <td>Politics</td>\n",
              "      <td>19</td>\n",
              "      <td>32174.0</td>\n",
              "      <td>14938.0</td>\n",
              "      <td>7</td>\n",
              "    </tr>\n",
              "    <tr>\n",
              "      <th>3</th>\n",
              "      <td>Non-Political</td>\n",
              "      <td>10</td>\n",
              "      <td>8370.0</td>\n",
              "      <td>2700.0</td>\n",
              "      <td>0</td>\n",
              "    </tr>\n",
              "    <tr>\n",
              "      <th>4</th>\n",
              "      <td>Coronavirus</td>\n",
              "      <td>1</td>\n",
              "      <td>NaN</td>\n",
              "      <td>NaN</td>\n",
              "      <td>1</td>\n",
              "    </tr>\n",
              "  </tbody>\n",
              "</table>\n",
              "</div>"
            ],
            "text/plain": [
              "           Flair  Rating  UserPostKarma  UserCommentKarma  NumComments\n",
              "0  Non-Political     111         1008.0             116.0            7\n",
              "1    Coronavirus       8         1008.0             116.0            2\n",
              "2       Politics      19        32174.0           14938.0            7\n",
              "3  Non-Political      10         8370.0            2700.0            0\n",
              "4    Coronavirus       1            NaN               NaN            1"
            ]
          },
          "metadata": {
            "tags": []
          },
          "execution_count": 84
        }
      ]
    },
    {
      "cell_type": "code",
      "metadata": {
        "id": "lrBpc9_lJ__-",
        "colab_type": "code",
        "outputId": "fc163cc1-200b-4856-ee90-17779b57555d",
        "colab": {
          "base_uri": "https://localhost:8080/",
          "height": 68
        }
      },
      "source": [
        "# assigning codes to Flair column\n",
        "category = df.Flair.astype('category')\n",
        "print(category.unique())\n",
        "\n",
        "# assigns category codes to data based on lexical order\n",
        "df.Flair = category.cat.codes"
      ],
      "execution_count": 0,
      "outputs": [
        {
          "output_type": "stream",
          "text": [
            "[Non-Political, Coronavirus, Politics, Policy/Economy, Food, Science/Technology, Business/Finance, Photography, Sports]\n",
            "Categories (9, object): [Non-Political, Coronavirus, Politics, Policy/Economy, ..., Science/Technology,\n",
            "                         Business/Finance, Photography, Sports]\n"
          ],
          "name": "stdout"
        }
      ]
    },
    {
      "cell_type": "code",
      "metadata": {
        "id": "ycNAeZZfKZNz",
        "colab_type": "code",
        "outputId": "97190100-7b8d-477a-eb3a-50937c13c997",
        "colab": {
          "base_uri": "https://localhost:8080/",
          "height": 204
        }
      },
      "source": [
        "df.head()"
      ],
      "execution_count": 0,
      "outputs": [
        {
          "output_type": "execute_result",
          "data": {
            "text/html": [
              "<div>\n",
              "<style scoped>\n",
              "    .dataframe tbody tr th:only-of-type {\n",
              "        vertical-align: middle;\n",
              "    }\n",
              "\n",
              "    .dataframe tbody tr th {\n",
              "        vertical-align: top;\n",
              "    }\n",
              "\n",
              "    .dataframe thead th {\n",
              "        text-align: right;\n",
              "    }\n",
              "</style>\n",
              "<table border=\"1\" class=\"dataframe\">\n",
              "  <thead>\n",
              "    <tr style=\"text-align: right;\">\n",
              "      <th></th>\n",
              "      <th>Flair</th>\n",
              "      <th>Rating</th>\n",
              "      <th>UserPostKarma</th>\n",
              "      <th>UserCommentKarma</th>\n",
              "      <th>NumComments</th>\n",
              "    </tr>\n",
              "  </thead>\n",
              "  <tbody>\n",
              "    <tr>\n",
              "      <th>0</th>\n",
              "      <td>3</td>\n",
              "      <td>111</td>\n",
              "      <td>1008.0</td>\n",
              "      <td>116.0</td>\n",
              "      <td>7</td>\n",
              "    </tr>\n",
              "    <tr>\n",
              "      <th>1</th>\n",
              "      <td>1</td>\n",
              "      <td>8</td>\n",
              "      <td>1008.0</td>\n",
              "      <td>116.0</td>\n",
              "      <td>2</td>\n",
              "    </tr>\n",
              "    <tr>\n",
              "      <th>2</th>\n",
              "      <td>6</td>\n",
              "      <td>19</td>\n",
              "      <td>32174.0</td>\n",
              "      <td>14938.0</td>\n",
              "      <td>7</td>\n",
              "    </tr>\n",
              "    <tr>\n",
              "      <th>3</th>\n",
              "      <td>3</td>\n",
              "      <td>10</td>\n",
              "      <td>8370.0</td>\n",
              "      <td>2700.0</td>\n",
              "      <td>0</td>\n",
              "    </tr>\n",
              "    <tr>\n",
              "      <th>4</th>\n",
              "      <td>1</td>\n",
              "      <td>1</td>\n",
              "      <td>NaN</td>\n",
              "      <td>NaN</td>\n",
              "      <td>1</td>\n",
              "    </tr>\n",
              "  </tbody>\n",
              "</table>\n",
              "</div>"
            ],
            "text/plain": [
              "   Flair  Rating  UserPostKarma  UserCommentKarma  NumComments\n",
              "0      3     111         1008.0             116.0            7\n",
              "1      1       8         1008.0             116.0            2\n",
              "2      6      19        32174.0           14938.0            7\n",
              "3      3      10         8370.0            2700.0            0\n",
              "4      1       1            NaN               NaN            1"
            ]
          },
          "metadata": {
            "tags": []
          },
          "execution_count": 86
        }
      ]
    },
    {
      "cell_type": "code",
      "metadata": {
        "id": "QP-YN4QoK-tO",
        "colab_type": "code",
        "outputId": "363e606a-42a5-47c8-84d5-76819a618e4c",
        "colab": {
          "base_uri": "https://localhost:8080/",
          "height": 359
        }
      },
      "source": [
        "# 1. Removing nan rows\n",
        "df1 = df.dropna()\n",
        "\n",
        "# 2. replacing Nan values with the mean of its row \n",
        "df2 = df.drop('Flair', axis=1).apply(lambda row: row.fillna(row.mean()), axis=1)\n",
        "df2['Flair'] = df.Flair"
      ],
      "execution_count": 0,
      "outputs": [
        {
          "output_type": "execute_result",
          "data": {
            "text/html": [
              "<div>\n",
              "<style scoped>\n",
              "    .dataframe tbody tr th:only-of-type {\n",
              "        vertical-align: middle;\n",
              "    }\n",
              "\n",
              "    .dataframe tbody tr th {\n",
              "        vertical-align: top;\n",
              "    }\n",
              "\n",
              "    .dataframe thead th {\n",
              "        text-align: right;\n",
              "    }\n",
              "</style>\n",
              "<table border=\"1\" class=\"dataframe\">\n",
              "  <thead>\n",
              "    <tr style=\"text-align: right;\">\n",
              "      <th></th>\n",
              "      <th>Rating</th>\n",
              "      <th>UserPostKarma</th>\n",
              "      <th>UserCommentKarma</th>\n",
              "      <th>NumComments</th>\n",
              "      <th>Flair</th>\n",
              "    </tr>\n",
              "  </thead>\n",
              "  <tbody>\n",
              "    <tr>\n",
              "      <th>0</th>\n",
              "      <td>111.0</td>\n",
              "      <td>1008.0</td>\n",
              "      <td>116.0</td>\n",
              "      <td>7.0</td>\n",
              "      <td>3</td>\n",
              "    </tr>\n",
              "    <tr>\n",
              "      <th>1</th>\n",
              "      <td>8.0</td>\n",
              "      <td>1008.0</td>\n",
              "      <td>116.0</td>\n",
              "      <td>2.0</td>\n",
              "      <td>1</td>\n",
              "    </tr>\n",
              "    <tr>\n",
              "      <th>2</th>\n",
              "      <td>19.0</td>\n",
              "      <td>32174.0</td>\n",
              "      <td>14938.0</td>\n",
              "      <td>7.0</td>\n",
              "      <td>6</td>\n",
              "    </tr>\n",
              "    <tr>\n",
              "      <th>3</th>\n",
              "      <td>10.0</td>\n",
              "      <td>8370.0</td>\n",
              "      <td>2700.0</td>\n",
              "      <td>0.0</td>\n",
              "      <td>3</td>\n",
              "    </tr>\n",
              "    <tr>\n",
              "      <th>4</th>\n",
              "      <td>1.0</td>\n",
              "      <td>1.0</td>\n",
              "      <td>1.0</td>\n",
              "      <td>1.0</td>\n",
              "      <td>1</td>\n",
              "    </tr>\n",
              "    <tr>\n",
              "      <th>5</th>\n",
              "      <td>25.0</td>\n",
              "      <td>17.0</td>\n",
              "      <td>0.0</td>\n",
              "      <td>21.0</td>\n",
              "      <td>6</td>\n",
              "    </tr>\n",
              "    <tr>\n",
              "      <th>6</th>\n",
              "      <td>3530.0</td>\n",
              "      <td>7834.0</td>\n",
              "      <td>1936.0</td>\n",
              "      <td>89.0</td>\n",
              "      <td>1</td>\n",
              "    </tr>\n",
              "    <tr>\n",
              "      <th>7</th>\n",
              "      <td>7.0</td>\n",
              "      <td>57.0</td>\n",
              "      <td>1013.0</td>\n",
              "      <td>4.0</td>\n",
              "      <td>1</td>\n",
              "    </tr>\n",
              "    <tr>\n",
              "      <th>8</th>\n",
              "      <td>0.0</td>\n",
              "      <td>1036.0</td>\n",
              "      <td>-4.0</td>\n",
              "      <td>2.0</td>\n",
              "      <td>5</td>\n",
              "    </tr>\n",
              "    <tr>\n",
              "      <th>9</th>\n",
              "      <td>6.0</td>\n",
              "      <td>5.5</td>\n",
              "      <td>5.5</td>\n",
              "      <td>5.0</td>\n",
              "      <td>1</td>\n",
              "    </tr>\n",
              "  </tbody>\n",
              "</table>\n",
              "</div>"
            ],
            "text/plain": [
              "   Rating  UserPostKarma  UserCommentKarma  NumComments  Flair\n",
              "0   111.0         1008.0             116.0          7.0      3\n",
              "1     8.0         1008.0             116.0          2.0      1\n",
              "2    19.0        32174.0           14938.0          7.0      6\n",
              "3    10.0         8370.0            2700.0          0.0      3\n",
              "4     1.0            1.0               1.0          1.0      1\n",
              "5    25.0           17.0               0.0         21.0      6\n",
              "6  3530.0         7834.0            1936.0         89.0      1\n",
              "7     7.0           57.0            1013.0          4.0      1\n",
              "8     0.0         1036.0              -4.0          2.0      5\n",
              "9     6.0            5.5               5.5          5.0      1"
            ]
          },
          "metadata": {
            "tags": []
          },
          "execution_count": 94
        }
      ]
    },
    {
      "cell_type": "code",
      "metadata": {
        "id": "4oi2kypLScjO",
        "colab_type": "code",
        "colab": {}
      },
      "source": [
        "import xgboost\n",
        "import numpy as np\n",
        "from sklearn.model_selection import train_test_split\n",
        "from sklearn.metrics import mean_squared_error as mse\n",
        "from sklearn import metrics"
      ],
      "execution_count": 0,
      "outputs": []
    },
    {
      "cell_type": "code",
      "metadata": {
        "id": "wpnbxQDWS0S9",
        "colab_type": "code",
        "outputId": "3cc2af24-fb07-4c79-f027-5ed0a9c34d3e",
        "colab": {
          "base_uri": "https://localhost:8080/",
          "height": 136
        }
      },
      "source": [
        "# training on dataset(dropped NaN rows)\n",
        "target = 'Flair'\n",
        "train_x, test_x, train_y, test_y = train_test_split(df1.drop(target, axis=1), df1[target], test_size = 0.2)\n",
        "\n",
        "classifier = xgboost.XGBClassifier()\n",
        "classifier.fit(train_x, train_y)"
      ],
      "execution_count": 0,
      "outputs": [
        {
          "output_type": "execute_result",
          "data": {
            "text/plain": [
              "XGBClassifier(base_score=0.5, booster='gbtree', colsample_bylevel=1,\n",
              "              colsample_bynode=1, colsample_bytree=1, gamma=0,\n",
              "              learning_rate=0.1, max_delta_step=0, max_depth=3,\n",
              "              min_child_weight=1, missing=None, n_estimators=100, n_jobs=1,\n",
              "              nthread=None, objective='multi:softprob', random_state=0,\n",
              "              reg_alpha=0, reg_lambda=1, scale_pos_weight=1, seed=None,\n",
              "              silent=None, subsample=1, verbosity=1)"
            ]
          },
          "metadata": {
            "tags": []
          },
          "execution_count": 141
        }
      ]
    },
    {
      "cell_type": "code",
      "metadata": {
        "id": "r_CFNRYqWe9O",
        "colab_type": "code",
        "colab": {}
      },
      "source": [
        "from math import sqrt\n",
        "def rmse(pred, label):\n",
        "  return sqrt(mse(label, pred))"
      ],
      "execution_count": 0,
      "outputs": []
    },
    {
      "cell_type": "markdown",
      "metadata": {
        "id": "dMoUvWpUZT6T",
        "colab_type": "text"
      },
      "source": [
        "We can see the accuracy is quite low. So using only numerical"
      ]
    },
    {
      "cell_type": "code",
      "metadata": {
        "id": "x8W_GyDdX6QI",
        "colab_type": "code",
        "outputId": "18a7f2fa-55c2-442b-853f-8e816cc2138e",
        "colab": {
          "base_uri": "https://localhost:8080/",
          "height": 289
        }
      },
      "source": [
        "preds = classifier.predict(test_x)\n",
        "print(metrics.classification_report(test_y, preds, labels = np.arange(9)))"
      ],
      "execution_count": 0,
      "outputs": [
        {
          "output_type": "stream",
          "text": [
            "              precision    recall  f1-score   support\n",
            "\n",
            "           0       0.28      0.23      0.26       209\n",
            "           1       0.35      0.34      0.34       472\n",
            "           2       1.00      0.04      0.07        56\n",
            "           3       0.27      0.46      0.34       372\n",
            "           4       0.50      0.06      0.11       113\n",
            "           5       0.41      0.41      0.41       409\n",
            "           6       0.39      0.49      0.43       464\n",
            "           7       0.26      0.04      0.07       156\n",
            "           8       0.12      0.01      0.03        67\n",
            "\n",
            "    accuracy                           0.34      2318\n",
            "   macro avg       0.40      0.23      0.23      2318\n",
            "weighted avg       0.36      0.34      0.32      2318\n",
            "\n"
          ],
          "name": "stdout"
        }
      ]
    },
    {
      "cell_type": "markdown",
      "metadata": {
        "id": "k1GRmkqha_zM",
        "colab_type": "text"
      },
      "source": [
        "Here on Using "
      ]
    },
    {
      "cell_type": "code",
      "metadata": {
        "id": "J9EmXSDYaFFJ",
        "colab_type": "code",
        "outputId": "5f7e6f6a-ddb9-4417-9a71-3816e7f9a8ed",
        "colab": {
          "base_uri": "https://localhost:8080/",
          "height": 289
        }
      },
      "source": [
        "# training on dataset(replacin NaN cells with mean of its row)\n",
        "target = 'Flair'\n",
        "train_x, test_x, train_y, test_y = train_test_split(df2.drop(target, axis=1), df2[target], test_size = 0.2)\n",
        "\n",
        "classifier.fit(train_x, train_y)\n",
        "\n",
        "preds = classifier.predict(test_x)\n",
        "print(metrics.classification_report(test_y, preds, labels = np.arange(9)))"
      ],
      "execution_count": 0,
      "outputs": [
        {
          "output_type": "stream",
          "text": [
            "              precision    recall  f1-score   support\n",
            "\n",
            "           0       0.22      0.50      0.30       434\n",
            "           1       0.33      0.25      0.28       614\n",
            "           2       0.67      0.02      0.04       109\n",
            "           3       0.23      0.33      0.27       611\n",
            "           4       1.00      0.01      0.02       200\n",
            "           5       0.32      0.34      0.33       487\n",
            "           6       0.33      0.36      0.35       578\n",
            "           7       0.31      0.01      0.03       374\n",
            "           8       0.33      0.01      0.02       124\n",
            "\n",
            "    accuracy                           0.27      3531\n",
            "   macro avg       0.42      0.20      0.18      3531\n",
            "weighted avg       0.34      0.27      0.24      3531\n",
            "\n"
          ],
          "name": "stdout"
        }
      ]
    },
    {
      "cell_type": "markdown",
      "metadata": {
        "id": "f3gZbkRebqQ0",
        "colab_type": "text"
      },
      "source": [
        "While using the dropped Nan rows data, the accuracy has comne out more than the dataset in which NaN values are replaced by their row's mean.<br>\n",
        "Anyway my idea of using only numerical data as features for classification has not proved good. As the accuracy is only 35% which is not a good accuracy for a my classification task.<br>\n",
        "So now i will also include the text for training and see how the result comes out"
      ]
    },
    {
      "cell_type": "code",
      "metadata": {
        "id": "yf4FoDRBbipB",
        "colab_type": "code",
        "colab": {}
      },
      "source": [
        ""
      ],
      "execution_count": 0,
      "outputs": []
    }
  ]
}