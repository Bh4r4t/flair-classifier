{
 "cells": [
  {
   "cell_type": "markdown",
   "metadata": {},
   "source": [
    "# Flair Classification using FastAI"
   ]
  },
  {
   "cell_type": "code",
   "execution_count": 0,
   "metadata": {
    "colab": {},
    "colab_type": "code",
    "id": "A2aQTSpC9n1G"
   },
   "outputs": [],
   "source": [
    "from fastai.text import *\n",
    "import pandas as pd\n",
    "%matplotlib inline"
   ]
  },
  {
   "cell_type": "code",
   "execution_count": 0,
   "metadata": {
    "colab": {},
    "colab_type": "code",
    "id": "QEjTHoxR9t2F"
   },
   "outputs": [],
   "source": [
    "train = pd.read_csv('train.csv')\n",
    "valid = pd.read_csv('valid.csv')"
   ]
  },
  {
   "cell_type": "code",
   "execution_count": 0,
   "metadata": {
    "colab": {
     "base_uri": "https://localhost:8080/",
     "height": 51
    },
    "colab_type": "code",
    "id": "Xhsd_6s0_9cY",
    "outputId": "9dfe9653-cdb7-49ea-caf6-52f641045ee4"
   },
   "outputs": [
    {
     "data": {
      "text/plain": [
       "array(['Non-Political', 'Coronavirus', 'Politics', 'Policy/Economy', 'Food', 'Science/Technology', 'Business/Finance',\n",
       "       'Photography', 'Sports'], dtype=object)"
      ]
     },
     "execution_count": 8,
     "metadata": {
      "tags": []
     },
     "output_type": "execute_result"
    }
   ],
   "source": [
    "train['Flair'].unique()"
   ]
  },
  {
   "cell_type": "code",
   "execution_count": 0,
   "metadata": {
    "colab": {
     "base_uri": "https://localhost:8080/",
     "height": 649
    },
    "colab_type": "code",
    "id": "YriGHpSCAB4G",
    "outputId": "2e954f67-50b3-45ba-98ea-2f24565b7cdf"
   },
   "outputs": [
    {
     "data": {
      "text/html": [
       "<div>\n",
       "<style scoped>\n",
       "    .dataframe tbody tr th:only-of-type {\n",
       "        vertical-align: middle;\n",
       "    }\n",
       "\n",
       "    .dataframe tbody tr th {\n",
       "        vertical-align: top;\n",
       "    }\n",
       "\n",
       "    .dataframe thead th {\n",
       "        text-align: right;\n",
       "    }\n",
       "</style>\n",
       "<table border=\"1\" class=\"dataframe\">\n",
       "  <thead>\n",
       "    <tr style=\"text-align: right;\">\n",
       "      <th></th>\n",
       "      <th>PostUploadTime</th>\n",
       "      <th>Headline</th>\n",
       "      <th>Flair</th>\n",
       "      <th>Rating</th>\n",
       "      <th>UserName</th>\n",
       "      <th>UserPostKarma</th>\n",
       "      <th>UserCommentKarma</th>\n",
       "      <th>Id</th>\n",
       "      <th>PostSource</th>\n",
       "      <th>NumComments</th>\n",
       "      <th>Comments</th>\n",
       "      <th>PostBody</th>\n",
       "    </tr>\n",
       "  </thead>\n",
       "  <tbody>\n",
       "    <tr>\n",
       "      <th>0</th>\n",
       "      <td>1.587106e+09</td>\n",
       "      <td>Man Arrested For Allegedly Spitting On Manipur...</td>\n",
       "      <td>Non-Political</td>\n",
       "      <td>111</td>\n",
       "      <td>ReallyRedditLover</td>\n",
       "      <td>1008.0</td>\n",
       "      <td>116.0</td>\n",
       "      <td>g2ph3l</td>\n",
       "      <td>https://www.ndtv.com/mumbai-news/man-arrested-...</td>\n",
       "      <td>7</td>\n",
       "      <td>&gt;The accused was identified as **Amir Khan** ,...</td>\n",
       "      <td>NaN</td>\n",
       "    </tr>\n",
       "    <tr>\n",
       "      <th>1</th>\n",
       "      <td>1.587106e+09</td>\n",
       "      <td>Bought air tickets during lockdown? Full refun...</td>\n",
       "      <td>Coronavirus</td>\n",
       "      <td>8</td>\n",
       "      <td>ReallyRedditLover</td>\n",
       "      <td>1008.0</td>\n",
       "      <td>116.0</td>\n",
       "      <td>g2pg1d</td>\n",
       "      <td>https://timesofindia.indiatimes.com/business/i...</td>\n",
       "      <td>2</td>\n",
       "      <td>So, If I booked the ticket on 21st for 26th Ma...</td>\n",
       "      <td>NaN</td>\n",
       "    </tr>\n",
       "    <tr>\n",
       "      <th>2</th>\n",
       "      <td>1.587105e+09</td>\n",
       "      <td>Bollywood Nazis: A Tale of Two Sisters</td>\n",
       "      <td>Politics</td>\n",
       "      <td>19</td>\n",
       "      <td>iSalaamU</td>\n",
       "      <td>32174.0</td>\n",
       "      <td>14938.0</td>\n",
       "      <td>g2pd5o</td>\n",
       "      <td>https://www.reddit.com/r/india/comments/g2pd5o...</td>\n",
       "      <td>7</td>\n",
       "      <td>Woah so permanent ban right ? Not temporary .....</td>\n",
       "      <td>Yesterday, Twitter permanently suspended the a...</td>\n",
       "    </tr>\n",
       "    <tr>\n",
       "      <th>3</th>\n",
       "      <td>1.587105e+09</td>\n",
       "      <td>On this occasion of Rongāli bihu, I'd love to ...</td>\n",
       "      <td>Non-Political</td>\n",
       "      <td>10</td>\n",
       "      <td>deboo117</td>\n",
       "      <td>8370.0</td>\n",
       "      <td>2700.0</td>\n",
       "      <td>g2p97t</td>\n",
       "      <td>https://open.spotify.com/playlist/21uBCM64wmKV...</td>\n",
       "      <td>0</td>\n",
       "      <td>NaN</td>\n",
       "      <td>NaN</td>\n",
       "    </tr>\n",
       "    <tr>\n",
       "      <th>4</th>\n",
       "      <td>1.587104e+09</td>\n",
       "      <td>A Tweet Asking For Muslims And Journalists To ...</td>\n",
       "      <td>Coronavirus</td>\n",
       "      <td>1</td>\n",
       "      <td>NaN</td>\n",
       "      <td>NaN</td>\n",
       "      <td>NaN</td>\n",
       "      <td>g2ovv5</td>\n",
       "      <td>https://www.buzzfeednews.com/article/pranavdix...</td>\n",
       "      <td>1</td>\n",
       "      <td>NaN</td>\n",
       "      <td>[deleted]</td>\n",
       "    </tr>\n",
       "  </tbody>\n",
       "</table>\n",
       "</div>"
      ],
      "text/plain": [
       "   PostUploadTime  ...                                           PostBody\n",
       "0    1.587106e+09  ...                                                NaN\n",
       "1    1.587106e+09  ...                                                NaN\n",
       "2    1.587105e+09  ...  Yesterday, Twitter permanently suspended the a...\n",
       "3    1.587105e+09  ...                                                NaN\n",
       "4    1.587104e+09  ...                                          [deleted]\n",
       "\n",
       "[5 rows x 12 columns]"
      ]
     },
     "execution_count": 9,
     "metadata": {
      "tags": []
     },
     "output_type": "execute_result"
    }
   ],
   "source": [
    "train.head()"
   ]
  },
  {
   "cell_type": "code",
   "execution_count": 0,
   "metadata": {
    "colab": {
     "base_uri": "https://localhost:8080/",
     "height": 530
    },
    "colab_type": "code",
    "id": "lG-wKpPLAvlm",
    "outputId": "b562b346-0419-43ce-947c-7cd88eaf439b"
   },
   "outputs": [
    {
     "data": {
      "text/html": [
       "<div>\n",
       "<style scoped>\n",
       "    .dataframe tbody tr th:only-of-type {\n",
       "        vertical-align: middle;\n",
       "    }\n",
       "\n",
       "    .dataframe tbody tr th {\n",
       "        vertical-align: top;\n",
       "    }\n",
       "\n",
       "    .dataframe thead th {\n",
       "        text-align: right;\n",
       "    }\n",
       "</style>\n",
       "<table border=\"1\" class=\"dataframe\">\n",
       "  <thead>\n",
       "    <tr style=\"text-align: right;\">\n",
       "      <th></th>\n",
       "      <th>PostUploadTime</th>\n",
       "      <th>Headline</th>\n",
       "      <th>Flair</th>\n",
       "      <th>Rating</th>\n",
       "      <th>UserName</th>\n",
       "      <th>UserPostKarma</th>\n",
       "      <th>UserCommentKarma</th>\n",
       "      <th>Id</th>\n",
       "      <th>PostSource</th>\n",
       "      <th>NumComments</th>\n",
       "      <th>Comments</th>\n",
       "      <th>PostBody</th>\n",
       "    </tr>\n",
       "  </thead>\n",
       "  <tbody>\n",
       "    <tr>\n",
       "      <th>0</th>\n",
       "      <td>1.587444e+09</td>\n",
       "      <td>I want to be calm like that guy sitting on the...</td>\n",
       "      <td>Photography</td>\n",
       "      <td>4</td>\n",
       "      <td>OtsuKotsu</td>\n",
       "      <td>1209.0</td>\n",
       "      <td>2681.0</td>\n",
       "      <td>g50xtt</td>\n",
       "      <td>https://i.redd.it/kjkywsmcc1u41.jpg</td>\n",
       "      <td>0</td>\n",
       "      <td>NaN</td>\n",
       "      <td>NaN</td>\n",
       "    </tr>\n",
       "    <tr>\n",
       "      <th>1</th>\n",
       "      <td>1.587444e+09</td>\n",
       "      <td>Coronavirus Proof Greetings</td>\n",
       "      <td>Coronavirus</td>\n",
       "      <td>1</td>\n",
       "      <td>Brilliant_Bharat</td>\n",
       "      <td>1.0</td>\n",
       "      <td>0.0</td>\n",
       "      <td>g50xbz</td>\n",
       "      <td>https://www.brilliantbharat.com/2020/04/19/cor...</td>\n",
       "      <td>0</td>\n",
       "      <td>NaN</td>\n",
       "      <td>NaN</td>\n",
       "    </tr>\n",
       "    <tr>\n",
       "      <th>2</th>\n",
       "      <td>1.587444e+09</td>\n",
       "      <td>1.7 million dollar cost project in Pakistan.</td>\n",
       "      <td>Business/Finance</td>\n",
       "      <td>1</td>\n",
       "      <td>Deejhons786</td>\n",
       "      <td>1330.0</td>\n",
       "      <td>22.0</td>\n",
       "      <td>g50uin</td>\n",
       "      <td>https://youtu.be/GsUWJ9MTHWc</td>\n",
       "      <td>0</td>\n",
       "      <td>NaN</td>\n",
       "      <td>NaN</td>\n",
       "    </tr>\n",
       "    <tr>\n",
       "      <th>3</th>\n",
       "      <td>1.587444e+09</td>\n",
       "      <td>Refer and Earn- Rs. 5 per refer - No minimum w...</td>\n",
       "      <td>Business/Finance</td>\n",
       "      <td>1</td>\n",
       "      <td>HashOneandOnly</td>\n",
       "      <td>1.0</td>\n",
       "      <td>0.0</td>\n",
       "      <td>g50q4h</td>\n",
       "      <td>https://www.reddit.com/r/india/comments/g50q4h...</td>\n",
       "      <td>0</td>\n",
       "      <td>NaN</td>\n",
       "      <td>[removed]</td>\n",
       "    </tr>\n",
       "    <tr>\n",
       "      <th>4</th>\n",
       "      <td>1.587444e+09</td>\n",
       "      <td>Amazon reviews gold ! A 'massager' that clearl...</td>\n",
       "      <td>Non-Political</td>\n",
       "      <td>6</td>\n",
       "      <td>zakiiboy</td>\n",
       "      <td>15811.0</td>\n",
       "      <td>2902.0</td>\n",
       "      <td>g50nld</td>\n",
       "      <td>https://i.redd.it/5tuf59qq91u41.jpg</td>\n",
       "      <td>1</td>\n",
       "      <td>Yes, the product description is not a giveaway...</td>\n",
       "      <td>NaN</td>\n",
       "    </tr>\n",
       "  </tbody>\n",
       "</table>\n",
       "</div>"
      ],
      "text/plain": [
       "   PostUploadTime  ...   PostBody\n",
       "0    1.587444e+09  ...        NaN\n",
       "1    1.587444e+09  ...        NaN\n",
       "2    1.587444e+09  ...        NaN\n",
       "3    1.587444e+09  ...  [removed]\n",
       "4    1.587444e+09  ...        NaN\n",
       "\n",
       "[5 rows x 12 columns]"
      ]
     },
     "execution_count": 11,
     "metadata": {
      "tags": []
     },
     "output_type": "execute_result"
    }
   ],
   "source": [
    "valid.head()"
   ]
  },
  {
   "cell_type": "markdown",
   "metadata": {
    "colab_type": "text",
    "id": "DwPU24ct-RyP"
   },
   "source": [
    "# Language Model\n",
    "First creating a language model from the text available in the train and test set. \n",
    "\n",
    "Appending all the text available in the headline, author, postbody, comments columns of both the dataframes into one single textbody column"
   ]
  },
  {
   "cell_type": "code",
   "execution_count": 0,
   "metadata": {
    "colab": {},
    "colab_type": "code",
    "id": "tZCvaS82-4No"
   },
   "outputs": [],
   "source": [
    "text = []\n",
    "for dataframe in [train, valid]:\n",
    "  text.extend(dataframe['Headline'].map(str) + dataframe['UserName'].map(str) + dataframe['PostBody'].map(str) + dataframe['Comments'].map(str))\n",
    "df = pd.DataFrame({'text':text})"
   ]
  },
  {
   "cell_type": "markdown",
   "metadata": {
    "colab_type": "text",
    "id": "b7mCI0eAD6Od"
   },
   "source": [
    "`df` is the data prepared for language model, as there are no labels required in language model I have dropped the Flair column"
   ]
  },
  {
   "cell_type": "code",
   "execution_count": 0,
   "metadata": {
    "colab": {
     "base_uri": "https://localhost:8080/",
     "height": 204
    },
    "colab_type": "code",
    "id": "Qwp5d4zPD3Tg",
    "outputId": "3b20ce9f-7192-464e-d1aa-40b6f9ad7ff7"
   },
   "outputs": [
    {
     "data": {
      "text/html": [
       "<div>\n",
       "<style scoped>\n",
       "    .dataframe tbody tr th:only-of-type {\n",
       "        vertical-align: middle;\n",
       "    }\n",
       "\n",
       "    .dataframe tbody tr th {\n",
       "        vertical-align: top;\n",
       "    }\n",
       "\n",
       "    .dataframe thead th {\n",
       "        text-align: right;\n",
       "    }\n",
       "</style>\n",
       "<table border=\"1\" class=\"dataframe\">\n",
       "  <thead>\n",
       "    <tr style=\"text-align: right;\">\n",
       "      <th></th>\n",
       "      <th>text</th>\n",
       "    </tr>\n",
       "  </thead>\n",
       "  <tbody>\n",
       "    <tr>\n",
       "      <th>0</th>\n",
       "      <td>Man Arrested For Allegedly Spitting On Manipur...</td>\n",
       "    </tr>\n",
       "    <tr>\n",
       "      <th>1</th>\n",
       "      <td>Bought air tickets during lockdown? Full refun...</td>\n",
       "    </tr>\n",
       "    <tr>\n",
       "      <th>2</th>\n",
       "      <td>Bollywood Nazis: A Tale of Two SistersiSalaamU...</td>\n",
       "    </tr>\n",
       "    <tr>\n",
       "      <th>3</th>\n",
       "      <td>On this occasion of Rongāli bihu, I'd love to ...</td>\n",
       "    </tr>\n",
       "    <tr>\n",
       "      <th>4</th>\n",
       "      <td>A Tweet Asking For Muslims And Journalists To ...</td>\n",
       "    </tr>\n",
       "  </tbody>\n",
       "</table>\n",
       "</div>"
      ],
      "text/plain": [
       "                                                text\n",
       "0  Man Arrested For Allegedly Spitting On Manipur...\n",
       "1  Bought air tickets during lockdown? Full refun...\n",
       "2  Bollywood Nazis: A Tale of Two SistersiSalaamU...\n",
       "3  On this occasion of Rongāli bihu, I'd love to ...\n",
       "4  A Tweet Asking For Muslims And Journalists To ..."
      ]
     },
     "execution_count": 31,
     "metadata": {
      "tags": []
     },
     "output_type": "execute_result"
    }
   ],
   "source": [
    "df.head()"
   ]
  },
  {
   "cell_type": "code",
   "execution_count": 0,
   "metadata": {
    "colab": {
     "base_uri": "https://localhost:8080/",
     "height": 17
    },
    "colab_type": "code",
    "id": "NT8GDOYED43I",
    "outputId": "528cc8a8-6066-4e8b-de10-9876bd99bb1e"
   },
   "outputs": [
    {
     "data": {
      "text/html": [],
      "text/plain": [
       "<IPython.core.display.HTML object>"
      ]
     },
     "metadata": {
      "tags": []
     },
     "output_type": "display_data"
    },
    {
     "data": {
      "text/html": [],
      "text/plain": [
       "<IPython.core.display.HTML object>"
      ]
     },
     "metadata": {
      "tags": []
     },
     "output_type": "display_data"
    }
   ],
   "source": [
    "# defining batch size\n",
    "bs=50\n",
    "# creating data bunch using fastai's textlist api\n",
    "data_lm = (TextList.from_df(df, cols='text')\n",
    "          # splitting data into train(0.8) and test(0.2) randomly\n",
    "          .split_by_rand_pct(0.2)\n",
    "          # labelling for language model\n",
    "          .label_for_lm()\n",
    "          #  creating data bunch of batch size bs\n",
    "          .databunch(bs=bs))\n",
    "# saving the lm databunch to use later for classification\n",
    "data_lm.save('data_lm')"
   ]
  },
  {
   "cell_type": "code",
   "execution_count": 0,
   "metadata": {
    "colab": {},
    "colab_type": "code",
    "id": "XS7GpcWFEm34"
   },
   "outputs": [],
   "source": [
    "# using AWD_LSTM architecure for language modelling\n",
    "learn = language_model_learner(data_lm, AWD_LSTM, drop_mult=0.6)"
   ]
  },
  {
   "cell_type": "code",
   "execution_count": 0,
   "metadata": {
    "colab": {
     "base_uri": "https://localhost:8080/",
     "height": 510
    },
    "colab_type": "code",
    "id": "_6c9Y9ieFH4t",
    "outputId": "a7524741-404d-4a13-f0a6-1b5a541d9c36"
   },
   "outputs": [
    {
     "data": {
      "text/plain": [
       "SequentialRNN(\n",
       "  (0): AWD_LSTM(\n",
       "    (encoder): Embedding(19560, 400, padding_idx=1)\n",
       "    (encoder_dp): EmbeddingDropout(\n",
       "      (emb): Embedding(19560, 400, padding_idx=1)\n",
       "    )\n",
       "    (rnns): ModuleList(\n",
       "      (0): WeightDropout(\n",
       "        (module): LSTM(400, 1152, batch_first=True)\n",
       "      )\n",
       "      (1): WeightDropout(\n",
       "        (module): LSTM(1152, 1152, batch_first=True)\n",
       "      )\n",
       "      (2): WeightDropout(\n",
       "        (module): LSTM(1152, 400, batch_first=True)\n",
       "      )\n",
       "    )\n",
       "    (input_dp): RNNDropout()\n",
       "    (hidden_dps): ModuleList(\n",
       "      (0): RNNDropout()\n",
       "      (1): RNNDropout()\n",
       "      (2): RNNDropout()\n",
       "    )\n",
       "  )\n",
       "  (1): LinearDecoder(\n",
       "    (decoder): Linear(in_features=400, out_features=19560, bias=True)\n",
       "    (output_dp): RNNDropout()\n",
       "  )\n",
       ")"
      ]
     },
     "execution_count": 31,
     "metadata": {
      "tags": []
     },
     "output_type": "execute_result"
    }
   ],
   "source": [
    "learn.model"
   ]
  },
  {
   "cell_type": "code",
   "execution_count": 0,
   "metadata": {
    "colab": {
     "base_uri": "https://localhost:8080/",
     "height": 629
    },
    "colab_type": "code",
    "id": "JexAyAlkFBXg",
    "outputId": "1d96d2f2-96bd-40da-8bda-4407330696c4"
   },
   "outputs": [
    {
     "data": {
      "text/html": [
       "\n",
       "    <div>\n",
       "        <style>\n",
       "            /* Turns off some styling */\n",
       "            progress {\n",
       "                /* gets rid of default border in Firefox and Opera. */\n",
       "                border: none;\n",
       "                /* Needs to be in here for Safari polyfill so background images work as expected. */\n",
       "                background-size: auto;\n",
       "            }\n",
       "            .progress-bar-interrupted, .progress-bar-interrupted::-webkit-progress-bar {\n",
       "                background: #F44336;\n",
       "            }\n",
       "        </style>\n",
       "      <progress value='0' class='' max='1' style='width:300px; height:20px; vertical-align: middle;'></progress>\n",
       "      0.00% [0/1 00:00<00:00]\n",
       "    </div>\n",
       "    \n",
       "<table border=\"1\" class=\"dataframe\">\n",
       "  <thead>\n",
       "    <tr style=\"text-align: left;\">\n",
       "      <th>epoch</th>\n",
       "      <th>train_loss</th>\n",
       "      <th>valid_loss</th>\n",
       "      <th>accuracy</th>\n",
       "      <th>time</th>\n",
       "    </tr>\n",
       "  </thead>\n",
       "  <tbody>\n",
       "  </tbody>\n",
       "</table><p>\n",
       "\n",
       "    <div>\n",
       "        <style>\n",
       "            /* Turns off some styling */\n",
       "            progress {\n",
       "                /* gets rid of default border in Firefox and Opera. */\n",
       "                border: none;\n",
       "                /* Needs to be in here for Safari polyfill so background images work as expected. */\n",
       "                background-size: auto;\n",
       "            }\n",
       "            .progress-bar-interrupted, .progress-bar-interrupted::-webkit-progress-bar {\n",
       "                background: #F44336;\n",
       "            }\n",
       "        </style>\n",
       "      <progress value='99' class='' max='479' style='width:300px; height:20px; vertical-align: middle;'></progress>\n",
       "      20.67% [99/479 00:24<01:34 12.1948]\n",
       "    </div>\n",
       "    "
      ],
      "text/plain": [
       "<IPython.core.display.HTML object>"
      ]
     },
     "metadata": {
      "tags": []
     },
     "output_type": "display_data"
    },
    {
     "name": "stderr",
     "output_type": "stream",
     "text": [
      "Exception ignored in: <bound method _ConnectionBase.__del__ of <multiprocessing.connection.Connection object at 0x7f5f77457ef0>>\n",
      "Traceback (most recent call last):\n",
      "  File \"/usr/lib/python3.6/multiprocessing/connection.py\", line 132, in __del__\n",
      "    self._close()\n",
      "  File \"/usr/lib/python3.6/multiprocessing/connection.py\", line 361, in _close\n",
      "    _close(self._handle)\n",
      "OSError: [Errno 9] Bad file descriptor\n",
      "Traceback (most recent call last):\n",
      "  File \"/usr/lib/python3.6/multiprocessing/queues.py\", line 230, in _feed\n",
      "    close()\n",
      "  File \"/usr/lib/python3.6/multiprocessing/connection.py\", line 177, in close\n",
      "    self._close()\n",
      "  File \"/usr/lib/python3.6/multiprocessing/connection.py\", line 361, in _close\n",
      "    _close(self._handle)\n",
      "OSError: [Errno 9] Bad file descriptor\n"
     ]
    },
    {
     "name": "stdout",
     "output_type": "stream",
     "text": [
      "LR Finder is complete, type {learner_name}.recorder.plot() to see the graph.\n"
     ]
    },
    {
     "data": {
      "image/png": "[encoded data removed]",
      "text/plain": [
       "<Figure size 432x288 with 1 Axes>"
      ]
     },
     "metadata": {
      "needs_background": "light",
      "tags": []
     },
     "output_type": "display_data"
    }
   ],
   "source": [
    "learn.lr_find()\n",
    "learn.recorder.plot()"
   ]
  },
  {
   "cell_type": "markdown",
   "metadata": {
    "colab_type": "text",
    "id": "7p3Fu3D7Fdy-"
   },
   "source": [
    "Here it is good to take the learning rate where the curve is still moving downward rather than the lr at the minima of the curve"
   ]
  },
  {
   "cell_type": "code",
   "execution_count": 0,
   "metadata": {
    "colab": {
     "base_uri": "https://localhost:8080/",
     "height": 359
    },
    "colab_type": "code",
    "id": "hG-ZbfOdFOfg",
    "outputId": "2c0700dd-e20b-42ee-98fa-fa1cdf4c33b0"
   },
   "outputs": [
    {
     "data": {
      "text/html": [
       "<table border=\"1\" class=\"dataframe\">\n",
       "  <thead>\n",
       "    <tr style=\"text-align: left;\">\n",
       "      <th>epoch</th>\n",
       "      <th>train_loss</th>\n",
       "      <th>valid_loss</th>\n",
       "      <th>accuracy</th>\n",
       "      <th>time</th>\n",
       "    </tr>\n",
       "  </thead>\n",
       "  <tbody>\n",
       "    <tr>\n",
       "      <td>0</td>\n",
       "      <td>4.626995</td>\n",
       "      <td>4.348191</td>\n",
       "      <td>0.267879</td>\n",
       "      <td>02:16</td>\n",
       "    </tr>\n",
       "    <tr>\n",
       "      <td>1</td>\n",
       "      <td>4.362378</td>\n",
       "      <td>4.194059</td>\n",
       "      <td>0.277120</td>\n",
       "      <td>02:22</td>\n",
       "    </tr>\n",
       "    <tr>\n",
       "      <td>2</td>\n",
       "      <td>4.240588</td>\n",
       "      <td>4.207509</td>\n",
       "      <td>0.276588</td>\n",
       "      <td>02:22</td>\n",
       "    </tr>\n",
       "    <tr>\n",
       "      <td>3</td>\n",
       "      <td>4.101108</td>\n",
       "      <td>4.205788</td>\n",
       "      <td>0.277765</td>\n",
       "      <td>02:23</td>\n",
       "    </tr>\n",
       "    <tr>\n",
       "      <td>4</td>\n",
       "      <td>4.004673</td>\n",
       "      <td>4.200269</td>\n",
       "      <td>0.278469</td>\n",
       "      <td>02:22</td>\n",
       "    </tr>\n",
       "    <tr>\n",
       "      <td>5</td>\n",
       "      <td>3.886517</td>\n",
       "      <td>4.188310</td>\n",
       "      <td>0.281164</td>\n",
       "      <td>02:23</td>\n",
       "    </tr>\n",
       "    <tr>\n",
       "      <td>6</td>\n",
       "      <td>3.748521</td>\n",
       "      <td>4.176147</td>\n",
       "      <td>0.282425</td>\n",
       "      <td>02:23</td>\n",
       "    </tr>\n",
       "    <tr>\n",
       "      <td>7</td>\n",
       "      <td>3.666495</td>\n",
       "      <td>4.167759</td>\n",
       "      <td>0.284077</td>\n",
       "      <td>02:23</td>\n",
       "    </tr>\n",
       "    <tr>\n",
       "      <td>8</td>\n",
       "      <td>3.556187</td>\n",
       "      <td>4.163549</td>\n",
       "      <td>0.284743</td>\n",
       "      <td>02:23</td>\n",
       "    </tr>\n",
       "    <tr>\n",
       "      <td>9</td>\n",
       "      <td>3.495876</td>\n",
       "      <td>4.162990</td>\n",
       "      <td>0.285059</td>\n",
       "      <td>02:23</td>\n",
       "    </tr>\n",
       "  </tbody>\n",
       "</table>"
      ],
      "text/plain": [
       "<IPython.core.display.HTML object>"
      ]
     },
     "metadata": {
      "tags": []
     },
     "output_type": "display_data"
    }
   ],
   "source": [
    "learn.fit_one_cycle(10, 1e-2, moms=(0.8,0.7))"
   ]
  },
  {
   "cell_type": "code",
   "execution_count": 0,
   "metadata": {
    "colab": {
     "base_uri": "https://localhost:8080/",
     "height": 142
    },
    "colab_type": "code",
    "id": "QWBLdimMFs8K",
    "outputId": "d3b50e4f-5a48-46c9-aae6-67e275a96a86"
   },
   "outputs": [
    {
     "data": {
      "text/html": [
       "<table border=\"1\" class=\"dataframe\">\n",
       "  <thead>\n",
       "    <tr style=\"text-align: left;\">\n",
       "      <th>epoch</th>\n",
       "      <th>train_loss</th>\n",
       "      <th>valid_loss</th>\n",
       "      <th>accuracy</th>\n",
       "      <th>time</th>\n",
       "    </tr>\n",
       "  </thead>\n",
       "  <tbody>\n",
       "    <tr>\n",
       "      <td>0</td>\n",
       "      <td>4.139073</td>\n",
       "      <td>4.304791</td>\n",
       "      <td>0.270485</td>\n",
       "      <td>02:27</td>\n",
       "    </tr>\n",
       "    <tr>\n",
       "      <td>1</td>\n",
       "      <td>3.986545</td>\n",
       "      <td>4.143645</td>\n",
       "      <td>0.286885</td>\n",
       "      <td>02:27</td>\n",
       "    </tr>\n",
       "    <tr>\n",
       "      <td>2</td>\n",
       "      <td>3.506133</td>\n",
       "      <td>4.087173</td>\n",
       "      <td>0.296460</td>\n",
       "      <td>02:28</td>\n",
       "    </tr>\n",
       "  </tbody>\n",
       "</table>"
      ],
      "text/plain": [
       "<IPython.core.display.HTML object>"
      ]
     },
     "metadata": {
      "tags": []
     },
     "output_type": "display_data"
    }
   ],
   "source": [
    "learn.unfreeze()\n",
    "learn.fit_one_cycle(3,1e-2, moms=(0.8,0.7))"
   ]
  },
  {
   "cell_type": "code",
   "execution_count": 0,
   "metadata": {
    "colab": {},
    "colab_type": "code",
    "id": "1JWB6P7PGt55"
   },
   "outputs": [],
   "source": [
    "# the valid loss is still decreasing I can still train it\n",
    "# first save the current model\n",
    "learn.freeze()\n",
    "learn.save_encoder('base_lm.pth')"
   ]
  },
  {
   "cell_type": "code",
   "execution_count": 0,
   "metadata": {
    "colab": {
     "base_uri": "https://localhost:8080/",
     "height": 204
    },
    "colab_type": "code",
    "id": "Ki_wpIl_ONM6",
    "outputId": "4279fd57-73f6-4755-de72-a8121dc5c7e7"
   },
   "outputs": [
    {
     "data": {
      "text/html": [
       "<table border=\"1\" class=\"dataframe\">\n",
       "  <thead>\n",
       "    <tr style=\"text-align: left;\">\n",
       "      <th>epoch</th>\n",
       "      <th>train_loss</th>\n",
       "      <th>valid_loss</th>\n",
       "      <th>accuracy</th>\n",
       "      <th>time</th>\n",
       "    </tr>\n",
       "  </thead>\n",
       "  <tbody>\n",
       "    <tr>\n",
       "      <td>0</td>\n",
       "      <td>3.651045</td>\n",
       "      <td>4.200371</td>\n",
       "      <td>0.283038</td>\n",
       "      <td>02:28</td>\n",
       "    </tr>\n",
       "    <tr>\n",
       "      <td>1</td>\n",
       "      <td>4.000079</td>\n",
       "      <td>4.241140</td>\n",
       "      <td>0.278093</td>\n",
       "      <td>02:28</td>\n",
       "    </tr>\n",
       "    <tr>\n",
       "      <td>2</td>\n",
       "      <td>3.828896</td>\n",
       "      <td>4.169321</td>\n",
       "      <td>0.287173</td>\n",
       "      <td>02:28</td>\n",
       "    </tr>\n",
       "    <tr>\n",
       "      <td>3</td>\n",
       "      <td>3.453923</td>\n",
       "      <td>4.126180</td>\n",
       "      <td>0.295322</td>\n",
       "      <td>02:27</td>\n",
       "    </tr>\n",
       "    <tr>\n",
       "      <td>4</td>\n",
       "      <td>3.140245</td>\n",
       "      <td>4.156529</td>\n",
       "      <td>0.295587</td>\n",
       "      <td>02:28</td>\n",
       "    </tr>\n",
       "  </tbody>\n",
       "</table>"
      ],
      "text/plain": [
       "<IPython.core.display.HTML object>"
      ]
     },
     "metadata": {
      "tags": []
     },
     "output_type": "display_data"
    }
   ],
   "source": [
    "learn.unfreeze()\n",
    "learn.fit_one_cycle(5, 1e-2, moms=(0.8, 0.7))"
   ]
  },
  {
   "cell_type": "code",
   "execution_count": 0,
   "metadata": {
    "colab": {},
    "colab_type": "code",
    "id": "QoxS209fOYiZ"
   },
   "outputs": [],
   "source": [
    "# save the language model\n",
    "learn.freeze()\n",
    "learn.save_encoder('fin_tuned')"
   ]
  },
  {
   "cell_type": "markdown",
   "metadata": {
    "colab_type": "text",
    "id": "S93BN1HwRpEc"
   },
   "source": [
    "## Classification Task\n",
    "Now the language model is ready I can use a decoder network along with the language model for classification"
   ]
  },
  {
   "cell_type": "code",
   "execution_count": 0,
   "metadata": {
    "colab": {},
    "colab_type": "code",
    "id": "ymtAjlXYSbIh"
   },
   "outputs": [],
   "source": [
    "Flair = []\n",
    "Flair.extend(train['Flair'].map(str))\n",
    "Flair.extend(valid['Flair'].map(str))\n",
    "# df already contains the text, here i will add their corresponding Flairs\n",
    "df['flair'] = Flair"
   ]
  },
  {
   "cell_type": "code",
   "execution_count": 0,
   "metadata": {
    "colab": {
     "base_uri": "https://localhost:8080/",
     "height": 195
    },
    "colab_type": "code",
    "id": "KsMREQLRTYqr",
    "outputId": "71714ba7-ef5f-4f76-aecd-e9c1c2121c67"
   },
   "outputs": [
    {
     "data": {
      "text/html": [
       "<div>\n",
       "<style scoped>\n",
       "    .dataframe tbody tr th:only-of-type {\n",
       "        vertical-align: middle;\n",
       "    }\n",
       "\n",
       "    .dataframe tbody tr th {\n",
       "        vertical-align: top;\n",
       "    }\n",
       "\n",
       "    .dataframe thead th {\n",
       "        text-align: right;\n",
       "    }\n",
       "</style>\n",
       "<table border=\"1\" class=\"dataframe\">\n",
       "  <thead>\n",
       "    <tr style=\"text-align: right;\">\n",
       "      <th></th>\n",
       "      <th>text</th>\n",
       "      <th>flair</th>\n",
       "    </tr>\n",
       "  </thead>\n",
       "  <tbody>\n",
       "    <tr>\n",
       "      <th>0</th>\n",
       "      <td>Man Arrested For Allegedly Spitting On Manipur...</td>\n",
       "      <td>Non-Political</td>\n",
       "    </tr>\n",
       "    <tr>\n",
       "      <th>1</th>\n",
       "      <td>Bought air tickets during lockdown? Full refun...</td>\n",
       "      <td>Coronavirus</td>\n",
       "    </tr>\n",
       "    <tr>\n",
       "      <th>2</th>\n",
       "      <td>Bollywood Nazis: A Tale of Two SistersiSalaamU...</td>\n",
       "      <td>Politics</td>\n",
       "    </tr>\n",
       "    <tr>\n",
       "      <th>3</th>\n",
       "      <td>On this occasion of Rongāli bihu, I'd love to ...</td>\n",
       "      <td>Non-Political</td>\n",
       "    </tr>\n",
       "    <tr>\n",
       "      <th>4</th>\n",
       "      <td>A Tweet Asking For Muslims And Journalists To ...</td>\n",
       "      <td>Coronavirus</td>\n",
       "    </tr>\n",
       "  </tbody>\n",
       "</table>\n",
       "</div>"
      ],
      "text/plain": [
       "                                                text          flair\n",
       "0  Man Arrested For Allegedly Spitting On Manipur...  Non-Political\n",
       "1  Bought air tickets during lockdown? Full refun...    Coronavirus\n",
       "2  Bollywood Nazis: A Tale of Two SistersiSalaamU...       Politics\n",
       "3  On this occasion of Rongāli bihu, I'd love to ...  Non-Political\n",
       "4  A Tweet Asking For Muslims And Journalists To ...    Coronavirus"
      ]
     },
     "execution_count": 39,
     "metadata": {
      "tags": []
     },
     "output_type": "execute_result"
    }
   ],
   "source": [
    "df.head()"
   ]
  },
  {
   "cell_type": "code",
   "execution_count": 0,
   "metadata": {
    "colab": {},
    "colab_type": "code",
    "id": "xYgnvQuAiVYa"
   },
   "outputs": [],
   "source": [
    "bs=50\n",
    "data_lm = load_data(path = '/content/', file='data_lm', bs = bs)"
   ]
  },
  {
   "cell_type": "code",
   "execution_count": 0,
   "metadata": {
    "colab": {
     "base_uri": "https://localhost:8080/",
     "height": 17
    },
    "colab_type": "code",
    "id": "8O3gcIkERUqJ",
    "outputId": "23457984-8add-454c-8073-7a8e2ca3f310"
   },
   "outputs": [
    {
     "data": {
      "text/html": [],
      "text/plain": [
       "<IPython.core.display.HTML object>"
      ]
     },
     "metadata": {
      "tags": []
     },
     "output_type": "display_data"
    },
    {
     "data": {
      "text/html": [],
      "text/plain": [
       "<IPython.core.display.HTML object>"
      ]
     },
     "metadata": {
      "tags": []
     },
     "output_type": "display_data"
    }
   ],
   "source": [
    "# preparing the classification data\n",
    "data_cls = (TextList.from_df(df, vocab=data_lm.vocab)\n",
    "           # splitting the data into training(80%) and test(20%) randomly\n",
    "           .split_by_rand_pct(0.2)\n",
    "           # label of the text from the Flair column\n",
    "           .label_from_df(cols='flair')\n",
    "           .databunch(bs=16))"
   ]
  },
  {
   "cell_type": "code",
   "execution_count": 0,
   "metadata": {
    "colab": {
     "base_uri": "https://localhost:8080/",
     "height": 696
    },
    "colab_type": "code",
    "id": "muDOBu94UFSw",
    "outputId": "516280ee-fb89-475f-8ccc-2bcfbee0fbec"
   },
   "outputs": [
    {
     "data": {
      "text/html": [
       "<table border=\"1\" class=\"dataframe\">\n",
       "  <thead>\n",
       "    <tr style=\"text-align: right;\">\n",
       "      <th>text</th>\n",
       "      <th>target</th>\n",
       "    </tr>\n",
       "  </thead>\n",
       "  <tbody>\n",
       "    <tr>\n",
       "      <td>xxbos xxup its xxup lock xxup on for xxmaj indian xxmaj real xxunk \\n \\n  * * * xxup lock – xxup on means ' xxmaj xxunk ' which refers to the removal of xxunk by making something clear . * * * \\n \\n  xxmaj we never would ’ve imagined a day when 1 / 3rd of world ’s population would be in a lockdown . xxmaj</td>\n",
       "      <td>Business/Finance</td>\n",
       "    </tr>\n",
       "    <tr>\n",
       "      <td>xxbos xxmaj citizenship xxmaj amendment xxunk / xxup caa ) , xxmaj national xxmaj registry of xxmaj indian xxunk / xxup nric ) - the past , present and a possible xxunk internet rabbit hole took me to various places when i was curious to know * how * xxmaj india currently xxunk ' citizenship ' and whether this nationalised version of xxup nrc , xxmaj assam is going to</td>\n",
       "      <td>Policy/Economy</td>\n",
       "    </tr>\n",
       "    <tr>\n",
       "      <td>xxbos xxmaj which xxmaj side xxmaj should i xxmaj choose ? xxunk was recently reading \" xxmaj india xxmaj is xxmaj no xxmaj longer xxmaj india \" ( [ https : / / www.theatlantic.com / magazine / archive / 2020 / 05 / xxunk - in - the - age - of - modi / xxunk / ] ( https : / / www.theatlantic.com / magazine / archive / 2020</td>\n",
       "      <td>Politics</td>\n",
       "    </tr>\n",
       "    <tr>\n",
       "      <td>xxbos i 'm not sure if this has already been shared here as the post is almost 1.5 weeks old . xxmaj but this shows what was the preparedness level two days before xxmaj janata xxmaj curfew and how authorities messed up at the xxup igi xxmaj airport , which probably have lead to local transmission of covid-19 there xxunk post by xxmaj vikram xxmaj sharma on xxup fb \\n</td>\n",
       "      <td>Coronavirus</td>\n",
       "    </tr>\n",
       "    <tr>\n",
       "      <td>xxbos xxmaj is xxmaj mamata government in xxmaj west xxmaj bengal as ineffective as its made out to xxunk my friends and i were discussing different states in xxmaj india , their economic state , the kind of leaders it has got , and then there was a long discussion about xxmaj xxunk xxmaj bangal ( xxmaj west xxmaj bengal ) and xxmaj kolkata . \\n \\n  xxmaj my</td>\n",
       "      <td>Politics</td>\n",
       "    </tr>\n",
       "    <tr>\n",
       "      <td>xxbos xxmaj india tests 24 people for one positive case , xxmaj japan tests xxunk , xxmaj italy 6.7 , xxup us tests xxunk ; ca n't say xxmaj india testing less : xxunk is something i have been wondering too . xxmaj among those tested , xxmaj india has a much lower positive to negative ratio than most other countries , which is surprising because xxmaj india had a</td>\n",
       "      <td>Coronavirus</td>\n",
       "    </tr>\n",
       "    <tr>\n",
       "      <td>xxbos xxmaj what exactly is the xxup bjp trying to do xxunk have been following their moves closely . xxmaj right from 2013 and the xxmaj anna xxmaj xxunk days - you got to say that the overall scheme was very well planned . \\n \\n  xxmaj they played the xxmaj economy card well and came into power . xxmaj and then things changed as we all know .</td>\n",
       "      <td>Politics</td>\n",
       "    </tr>\n",
       "    <tr>\n",
       "      <td>xxbos xxmaj delhi has not been given a single paisa from the ₹17,000 crore allocated to states . xxmaj here 's xxunk there ! \\n \\n  xxmaj as is being reported by the news , approximately ₹17,000 crore has been allocated by the xxmaj centre to the xxmaj states . xxmaj here is a representative news report : [ \" xxmaj centre grants xxmaj rs xxunk to states to</td>\n",
       "      <td>Policy/Economy</td>\n",
       "    </tr>\n",
       "    <tr>\n",
       "      <td>xxbos xxmaj delhi xxmaj police admits to using drones on civilians without any publicly available legal guidelines in xxunk \\n \\n  https : / / preview.redd.it / xxunk \\n \\n  * * xxmaj tl;dr * * \\n \\n  xxmaj with reports now emerging that the xxmaj delhi xxmaj police is using drones to check for people who are breaking the curfew in xxmaj delhi , we examine</td>\n",
       "      <td>Policy/Economy</td>\n",
       "    </tr>\n",
       "    <tr>\n",
       "      <td>xxbos xxmaj during lockdown , xxmaj uttarakhand xxup cm ( on xxmaj amit xxmaj shah 's orders ) arranged 28 buses to transport 1800 xxmaj gujarati devotees stranded in xxmaj haridwar back to xxmaj ahmedabad . xxmaj uttarakhand workers in xxmaj ahmedabad were then duped of xxmaj rs . 18000 and stranded midway when they tried to use these buses to return xxunk to the story : https : /</td>\n",
       "      <td>Politics</td>\n",
       "    </tr>\n",
       "  </tbody>\n",
       "</table>"
      ],
      "text/plain": [
       "<IPython.core.display.HTML object>"
      ]
     },
     "metadata": {
      "tags": []
     },
     "output_type": "display_data"
    }
   ],
   "source": [
    "data_cls.show_batch(10)"
   ]
  },
  {
   "cell_type": "code",
   "execution_count": 0,
   "metadata": {
    "colab": {
     "base_uri": "https://localhost:8080/",
     "height": 374
    },
    "colab_type": "code",
    "id": "oqn2jL4RUX9A",
    "outputId": "d4e59a9d-edd3-40aa-a799-de64ac7bf8b4"
   },
   "outputs": [
    {
     "data": {
      "text/html": [
       "\n",
       "    <div>\n",
       "        <style>\n",
       "            /* Turns off some styling */\n",
       "            progress {\n",
       "                /* gets rid of default border in Firefox and Opera. */\n",
       "                border: none;\n",
       "                /* Needs to be in here for Safari polyfill so background images work as expected. */\n",
       "                background-size: auto;\n",
       "            }\n",
       "            .progress-bar-interrupted, .progress-bar-interrupted::-webkit-progress-bar {\n",
       "                background: #F44336;\n",
       "            }\n",
       "        </style>\n",
       "      <progress value='0' class='' max='1' style='width:300px; height:20px; vertical-align: middle;'></progress>\n",
       "      0.00% [0/1 00:00<00:00]\n",
       "    </div>\n",
       "    \n",
       "<table border=\"1\" class=\"dataframe\">\n",
       "  <thead>\n",
       "    <tr style=\"text-align: left;\">\n",
       "      <th>epoch</th>\n",
       "      <th>train_loss</th>\n",
       "      <th>valid_loss</th>\n",
       "      <th>accuracy</th>\n",
       "      <th>time</th>\n",
       "    </tr>\n",
       "  </thead>\n",
       "  <tbody>\n",
       "  </tbody>\n",
       "</table><p>\n",
       "\n",
       "    <div>\n",
       "        <style>\n",
       "            /* Turns off some styling */\n",
       "            progress {\n",
       "                /* gets rid of default border in Firefox and Opera. */\n",
       "                border: none;\n",
       "                /* Needs to be in here for Safari polyfill so background images work as expected. */\n",
       "                background-size: auto;\n",
       "            }\n",
       "            .progress-bar-interrupted, .progress-bar-interrupted::-webkit-progress-bar {\n",
       "                background: #F44336;\n",
       "            }\n",
       "        </style>\n",
       "      <progress value='95' class='' max='922' style='width:300px; height:20px; vertical-align: middle;'></progress>\n",
       "      10.30% [95/922 00:29<04:17 7.0782]\n",
       "    </div>\n",
       "    "
      ],
      "text/plain": [
       "<IPython.core.display.HTML object>"
      ]
     },
     "metadata": {
      "tags": []
     },
     "output_type": "display_data"
    },
    {
     "name": "stdout",
     "output_type": "stream",
     "text": [
      "LR Finder is complete, type {learner_name}.recorder.plot() to see the graph.\n"
     ]
    },
    {
     "data": {
      "image/png": "[encoded data removed]",
      "text/plain": [
       "<Figure size 432x288 with 1 Axes>"
      ]
     },
     "metadata": {
      "needs_background": "light",
      "tags": []
     },
     "output_type": "display_data"
    }
   ],
   "source": [
    "# defining model and optimizer\n",
    "learn = text_classifier_learner(data_cls, AWD_LSTM, drop_mult = 0.4)\n",
    "# load the embedding/encoder trained on our text data\n",
    "learn.load_encoder('fin_tuned')\n",
    "\n",
    "# plot loss vs learning rate curve\n",
    "learn.lr_find()\n",
    "learn.recorder.plot(skip_end=10)"
   ]
  },
  {
   "cell_type": "code",
   "execution_count": 0,
   "metadata": {
    "colab": {
     "base_uri": "https://localhost:8080/",
     "height": 655
    },
    "colab_type": "code",
    "id": "D59RP_q1UazH",
    "outputId": "f30eb5e7-5572-4fcf-d0df-b3feac02dbbd"
   },
   "outputs": [
    {
     "data": {
      "text/plain": [
       "SequentialRNN(\n",
       "  (0): MultiBatchEncoder(\n",
       "    (module): AWD_LSTM(\n",
       "      (encoder): Embedding(19552, 400, padding_idx=1)\n",
       "      (encoder_dp): EmbeddingDropout(\n",
       "        (emb): Embedding(19552, 400, padding_idx=1)\n",
       "      )\n",
       "      (rnns): ModuleList(\n",
       "        (0): WeightDropout(\n",
       "          (module): LSTM(400, 1152, batch_first=True)\n",
       "        )\n",
       "        (1): WeightDropout(\n",
       "          (module): LSTM(1152, 1152, batch_first=True)\n",
       "        )\n",
       "        (2): WeightDropout(\n",
       "          (module): LSTM(1152, 400, batch_first=True)\n",
       "        )\n",
       "      )\n",
       "      (input_dp): RNNDropout()\n",
       "      (hidden_dps): ModuleList(\n",
       "        (0): RNNDropout()\n",
       "        (1): RNNDropout()\n",
       "        (2): RNNDropout()\n",
       "      )\n",
       "    )\n",
       "  )\n",
       "  (1): PoolingLinearClassifier(\n",
       "    (layers): Sequential(\n",
       "      (0): BatchNorm1d(1200, eps=1e-05, momentum=0.1, affine=True, track_running_stats=True)\n",
       "      (1): Dropout(p=0.16000000000000003, inplace=False)\n",
       "      (2): Linear(in_features=1200, out_features=50, bias=True)\n",
       "      (3): ReLU(inplace=True)\n",
       "      (4): BatchNorm1d(50, eps=1e-05, momentum=0.1, affine=True, track_running_stats=True)\n",
       "      (5): Dropout(p=0.1, inplace=False)\n",
       "      (6): Linear(in_features=50, out_features=9, bias=True)\n",
       "    )\n",
       "  )\n",
       ")"
      ]
     },
     "execution_count": 65,
     "metadata": {
      "tags": []
     },
     "output_type": "execute_result"
    }
   ],
   "source": [
    "# model -> AWD_LSTM\n",
    "learn.model"
   ]
  },
  {
   "cell_type": "code",
   "execution_count": 0,
   "metadata": {
    "colab": {
     "base_uri": "https://localhost:8080/",
     "height": 106
    },
    "colab_type": "code",
    "id": "a9DHv0RbUb4f",
    "outputId": "553bbe9f-4413-4785-ff93-ad9699b7a5e8"
   },
   "outputs": [
    {
     "data": {
      "text/html": [
       "<table border=\"1\" class=\"dataframe\">\n",
       "  <thead>\n",
       "    <tr style=\"text-align: left;\">\n",
       "      <th>epoch</th>\n",
       "      <th>train_loss</th>\n",
       "      <th>valid_loss</th>\n",
       "      <th>accuracy</th>\n",
       "      <th>time</th>\n",
       "    </tr>\n",
       "  </thead>\n",
       "  <tbody>\n",
       "    <tr>\n",
       "      <td>0</td>\n",
       "      <td>1.434268</td>\n",
       "      <td>1.326604</td>\n",
       "      <td>0.520596</td>\n",
       "      <td>06:56</td>\n",
       "    </tr>\n",
       "    <tr>\n",
       "      <td>1</td>\n",
       "      <td>1.395142</td>\n",
       "      <td>1.237300</td>\n",
       "      <td>0.557453</td>\n",
       "      <td>08:01</td>\n",
       "    </tr>\n",
       "  </tbody>\n",
       "</table>"
      ],
      "text/plain": [
       "<IPython.core.display.HTML object>"
      ]
     },
     "metadata": {
      "tags": []
     },
     "output_type": "display_data"
    }
   ],
   "source": [
    "# dry run on data\n",
    "learn.fit_one_cycle(2, 1e-2, moms=(0.8,0.7))"
   ]
  },
  {
   "cell_type": "code",
   "execution_count": 0,
   "metadata": {
    "colab": {
     "base_uri": "https://localhost:8080/",
     "height": 195
    },
    "colab_type": "code",
    "id": "0uTcDjISj0ss",
    "outputId": "5ff82a42-51e3-4686-8bfd-da1994590329"
   },
   "outputs": [
    {
     "data": {
      "text/html": [
       "<table border=\"1\" class=\"dataframe\">\n",
       "  <thead>\n",
       "    <tr style=\"text-align: left;\">\n",
       "      <th>epoch</th>\n",
       "      <th>train_loss</th>\n",
       "      <th>valid_loss</th>\n",
       "      <th>accuracy</th>\n",
       "      <th>time</th>\n",
       "    </tr>\n",
       "  </thead>\n",
       "  <tbody>\n",
       "    <tr>\n",
       "      <td>0</td>\n",
       "      <td>1.431762</td>\n",
       "      <td>1.343671</td>\n",
       "      <td>0.530623</td>\n",
       "      <td>06:56</td>\n",
       "    </tr>\n",
       "    <tr>\n",
       "      <td>1</td>\n",
       "      <td>1.400123</td>\n",
       "      <td>2.310741</td>\n",
       "      <td>0.526016</td>\n",
       "      <td>06:39</td>\n",
       "    </tr>\n",
       "    <tr>\n",
       "      <td>2</td>\n",
       "      <td>1.246933</td>\n",
       "      <td>1.949404</td>\n",
       "      <td>0.540650</td>\n",
       "      <td>07:44</td>\n",
       "    </tr>\n",
       "    <tr>\n",
       "      <td>3</td>\n",
       "      <td>1.048541</td>\n",
       "      <td>1.950147</td>\n",
       "      <td>0.566396</td>\n",
       "      <td>07:12</td>\n",
       "    </tr>\n",
       "    <tr>\n",
       "      <td>4</td>\n",
       "      <td>0.816110</td>\n",
       "      <td>2.090378</td>\n",
       "      <td>0.562602</td>\n",
       "      <td>08:16</td>\n",
       "    </tr>\n",
       "  </tbody>\n",
       "</table>"
      ],
      "text/plain": [
       "<IPython.core.display.HTML object>"
      ]
     },
     "metadata": {
      "tags": []
     },
     "output_type": "display_data"
    }
   ],
   "source": [
    "# unfreeze the model and run training loop again\n",
    "learn.unfreeze()\n",
    "learn.fit_one_cycle(5,1e-2, moms=(0.8,0.7))"
   ]
  }
 ],
 "metadata": {
  "accelerator": "GPU",
  "colab": {
   "name": "Fastai_only.ipynb",
   "provenance": []
  },
  "kernelspec": {
   "display_name": "Python 3",
   "language": "python",
   "name": "python3"
  },
  "language_info": {
   "codemirror_mode": {
    "name": "ipython",
    "version": 3
   },
   "file_extension": ".py",
   "mimetype": "text/x-python",
   "name": "python",
   "nbconvert_exporter": "python",
   "pygments_lexer": "ipython3",
   "version": "3.7.4"
  }
 },
 "nbformat": 4,
 "nbformat_minor": 1
}
